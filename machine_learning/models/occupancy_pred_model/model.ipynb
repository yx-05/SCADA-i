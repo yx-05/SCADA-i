{
 "cells": [
  {
   "cell_type": "markdown",
   "id": "7d8b0b8e",
   "metadata": {},
   "source": [
    "## Import Libraries"
   ]
  },
  {
   "cell_type": "code",
   "execution_count": 19,
   "id": "8af97ba8",
   "metadata": {},
   "outputs": [],
   "source": [
    "import pandas as pd\n",
    "import numpy as np\n",
    "import matplotlib.pyplot as plt\n",
    "\n",
    "from sklearn.preprocessing import LabelEncoder, StandardScaler\n",
    "from sklearn.model_selection import train_test_split, cross_val_score\n",
    "from sklearn.metrics import accuracy_score, classification_report\n",
    "from sklearn.preprocessing import StandardScaler\n",
    "from sklearn.model_selection import TimeSeriesSplit\n",
    "\n",
    "import xgboost as xgb\n",
    "from xgboost import XGBClassifier, XGBRegressor\n",
    "\n",
    "import optuna\n",
    "\n",
    "import joblib\n"
   ]
  },
  {
   "cell_type": "markdown",
   "id": "9bd6258a",
   "metadata": {},
   "source": [
    "## Import dataset"
   ]
  },
  {
   "cell_type": "code",
   "execution_count": 20,
   "id": "df7d0f95",
   "metadata": {},
   "outputs": [],
   "source": [
    "df = pd.read_csv('dataset.csv')"
   ]
  },
  {
   "cell_type": "markdown",
   "id": "1f905b98",
   "metadata": {},
   "source": [
    "## Handling null values"
   ]
  },
  {
   "cell_type": "code",
   "execution_count": 21,
   "id": "4f40cf76",
   "metadata": {},
   "outputs": [
    {
     "data": {
      "text/plain": [
       "timestamp                0\n",
       "hour_of_day              0\n",
       "day_of_week              0\n",
       "day_of_year              0\n",
       "outside_temp             0\n",
       "outside_humidity         0\n",
       "weather_condition        0\n",
       "occupancy_count          0\n",
       "is_occupied              0\n",
       "room_temp                0\n",
       "power_kw                 0\n",
       "fan_speed                0\n",
       "ac_temp_setting      58499\n",
       "ac_control_reason        0\n",
       "dtype: int64"
      ]
     },
     "execution_count": 21,
     "metadata": {},
     "output_type": "execute_result"
    }
   ],
   "source": [
    "df.isna().sum()"
   ]
  },
  {
   "cell_type": "markdown",
   "id": "2d9bb201",
   "metadata": {},
   "source": [
    "looks like the ac_temp_setting is null when the compressor is turned off, so we remain it as NaN"
   ]
  },
  {
   "cell_type": "markdown",
   "id": "eeb02e1b",
   "metadata": {},
   "source": [
    "## Feature importance filter"
   ]
  },
  {
   "cell_type": "code",
   "execution_count": 22,
   "id": "01d4a531",
   "metadata": {},
   "outputs": [
    {
     "name": "stderr",
     "output_type": "stream",
     "text": [
      "d:\\Github\\campus_bms\\machine_learning\\model\\occupancy_pred\\venv\\Lib\\site-packages\\xgboost\\training.py:183: UserWarning: [23:52:08] WARNING: C:\\actions-runner\\_work\\xgboost\\xgboost\\src\\learner.cc:738: \n",
      "Parameters: { \"use_label_encoder\" } are not used.\n",
      "\n",
      "  bst.update(dtrain, iteration=i, fobj=obj)\n"
     ]
    },
    {
     "name": "stdout",
     "output_type": "stream",
     "text": [
      "Accuracy: 0.9085374554102259\n"
     ]
    }
   ],
   "source": [
    "# Make a copy of df\n",
    "df_copy = df.copy()\n",
    "\n",
    "# Ensure categorical types\n",
    "for col in df_copy.select_dtypes(include=[\"object\"]).columns:\n",
    "    df_copy[col] = df_copy[col].astype(\"category\")\n",
    "\n",
    "# Split features and target\n",
    "# Removing the non-predictors features after some testing\n",
    "# Remove also timestamp as it is already have its features in the dataset\n",
    "X = df_copy.drop([\"is_occupied\", \"timestamp\", \"occupancy_count\", \"ac_control_reason\", \"power_kw\", \"fan_speed\", \"ac_temp_setting\"], axis=1) \n",
    "y = df_copy[\"is_occupied\"]\n",
    "\n",
    "X_train, X_test, y_train, y_test = train_test_split(\n",
    "    X, y, test_size=0.2, random_state=42\n",
    ")\n",
    "\n",
    "# Train\n",
    "model = xgb.XGBClassifier(\n",
    "    enable_categorical=True,\n",
    "    tree_method=\"hist\", \n",
    "    eval_metric=\"logloss\",\n",
    "    use_label_encoder=False\n",
    ")\n",
    "\n",
    "model.fit(X_train, y_train)\n",
    "\n",
    "# Predictions\n",
    "y_pred = model.predict(X_test)\n",
    "\n",
    "# Evaluate\n",
    "accuracy = accuracy_score(y_test, y_pred)\n",
    "print(\"Accuracy:\", accuracy)\n"
   ]
  },
  {
   "cell_type": "code",
   "execution_count": 23,
   "id": "41539e4f",
   "metadata": {},
   "outputs": [
    {
     "data": {
      "image/png": "[encoded data removed]",
      "text/plain": [
       "<Figure size 800x600 with 1 Axes>"
      ]
     },
     "metadata": {},
     "output_type": "display_data"
    }
   ],
   "source": [
    "# --- 3. Extract and sort feature importances ---\n",
    "importances = model.feature_importances_\n",
    "\n",
    "feat_importance = pd.DataFrame({\n",
    "    \"Feature\": X.columns,\n",
    "    \"Importance\": importances\n",
    "}).sort_values(by=\"Importance\", ascending=True)  # sort ascending for barh\n",
    "\n",
    "# --- 4. Plot nicely ---\n",
    "plt.figure(figsize=(8, 6))\n",
    "plt.barh(feat_importance[\"Feature\"], feat_importance[\"Importance\"])\n",
    "plt.xlabel(\"Importance Score\")\n",
    "plt.title(\"XGBoost Feature Importance (with categorical support)\")\n",
    "plt.show()"
   ]
  },
  {
   "cell_type": "markdown",
   "id": "10b7aae0",
   "metadata": {},
   "source": [
    "After a bunch of testing, we realize that \"occupancy_count\", \"ac_control_reason\", \"power_kw\", \"fan_speed\", \"ac_temp_setting\" is dependent to \"is_occupied\", the target variable. So we remove them as they are not predictors. "
   ]
  },
  {
   "cell_type": "markdown",
   "id": "424575fc",
   "metadata": {},
   "source": [
    "## Preprocessing"
   ]
  },
  {
   "cell_type": "markdown",
   "id": "6de4cc26",
   "metadata": {},
   "source": [
    "Dropping non-predictors columns"
   ]
  },
  {
   "cell_type": "code",
   "execution_count": 24,
   "id": "988136de",
   "metadata": {},
   "outputs": [],
   "source": [
    "df = df.drop([\"occupancy_count\", \"ac_control_reason\", \"power_kw\", \"fan_speed\", \"ac_temp_setting\"], axis=1)"
   ]
  },
  {
   "cell_type": "markdown",
   "id": "5cc594ca",
   "metadata": {},
   "source": [
    "Feature engineering for timestamp"
   ]
  },
  {
   "cell_type": "code",
   "execution_count": 25,
   "id": "46ac5e37",
   "metadata": {},
   "outputs": [],
   "source": [
    "# convert to timestamp\n",
    "df['timestamp'] = pd.to_datetime(df['timestamp'])\n",
    "\n",
    "# Extract features\n",
    "df['month_of_year'] = df['timestamp'].dt.month\n",
    "df['is_weekend'] = (df['day_of_week'] >= 5).astype(int)\n",
    "\n",
    "# Drop the raw timestamp column\n",
    "df = df.drop('timestamp', axis=1)"
   ]
  },
  {
   "cell_type": "markdown",
   "id": "a494d5c5",
   "metadata": {},
   "source": [
    "Generating prediction window for the model to learn ahead occupancy\n",
    "\n",
    "This would be the target variable which means \"current_time + 30 min\" will be occupied or not"
   ]
  },
  {
   "cell_type": "code",
   "execution_count": 26,
   "id": "7f701280",
   "metadata": {},
   "outputs": [],
   "source": [
    "# Predict if room will be occupied in next 30 minutes (6 rows if data is 5-min intervals)\n",
    "prediction_window = 6  # 30 minutes ahead\n",
    "\n",
    "df['future_occupied'] = (df['is_occupied'].shift(-prediction_window) == 1).astype(int)\n",
    "\n",
    "# Drop last 6 rows (no future data)\n",
    "df = df.iloc[:-prediction_window]"
   ]
  },
  {
   "cell_type": "markdown",
   "id": "8a8e64ae",
   "metadata": {},
   "source": [
    "Lag features for previous occupancy"
   ]
  },
  {
   "cell_type": "code",
   "execution_count": 27,
   "id": "4b135598",
   "metadata": {},
   "outputs": [],
   "source": [
    "# Previous occupancy status\n",
    "df['occ_lag1'] = df['is_occupied'].shift(1)\n",
    "df['occ_lag2'] = df['is_occupied'].shift(2)\n",
    "df['occ_lag3'] = df['is_occupied'].shift(3)"
   ]
  },
  {
   "cell_type": "code",
   "execution_count": 28,
   "id": "38c59a17",
   "metadata": {},
   "outputs": [],
   "source": [
    "# Previous temperature\n",
    "df['temp_lag1'] = df['room_temp'].shift(1)\n",
    "df['temp_lag2'] = df['room_temp'].shift(2)"
   ]
  },
  {
   "cell_type": "code",
   "execution_count": 29,
   "id": "c595c94b",
   "metadata": {},
   "outputs": [],
   "source": [
    "# Rolling averages\n",
    "df['occ_rolling_mean_3'] = df['is_occupied'].rolling(window=3).mean()\n",
    "df['temp_rolling_mean_3'] = df['room_temp'].rolling(window=3).mean()"
   ]
  },
  {
   "cell_type": "markdown",
   "id": "6b062a9a",
   "metadata": {},
   "source": [
    "Drop the NaN caused by the lag features for first few row"
   ]
  },
  {
   "cell_type": "code",
   "execution_count": 30,
   "id": "add0eb9e",
   "metadata": {},
   "outputs": [],
   "source": [
    "df = df.dropna(subset=[\"occ_lag1\", \"occ_lag2\", \"occ_lag3\"]).reset_index(drop=True)"
   ]
  },
  {
   "cell_type": "code",
   "execution_count": 31,
   "id": "f04d67a6",
   "metadata": {},
   "outputs": [],
   "source": [
    "# Create cyclical features for time\n",
    "def encode_cyclical(df, col, max_val):\n",
    "    df[col + '_sin'] = np.sin(2 * np.pi * df[col] / max_val)\n",
    "    df[col + '_cos'] = np.cos(2 * np.pi * df[col] / max_val)\n",
    "    return df\n",
    "\n",
    "df = encode_cyclical(df, 'hour_of_day', 24)\n",
    "df = encode_cyclical(df, 'day_of_week', 7)"
   ]
  },
  {
   "cell_type": "code",
   "execution_count": 32,
   "id": "c92205be",
   "metadata": {},
   "outputs": [],
   "source": [
    "# Label encode weather condition\n",
    "le_weather = LabelEncoder()\n",
    "df['weather_encoded'] = le_weather.fit_transform(df['weather_condition'])\n",
    "\n",
    "df = df.drop(\"weather_condition\", axis=1)"
   ]
  },
  {
   "cell_type": "code",
   "execution_count": 33,
   "id": "d04f232b",
   "metadata": {},
   "outputs": [
    {
     "name": "stdout",
     "output_type": "stream",
     "text": [
      "<class 'pandas.core.frame.DataFrame'>\n",
      "RangeIndex: 105112 entries, 0 to 105111\n",
      "Data columns (total 22 columns):\n",
      " #   Column               Non-Null Count   Dtype  \n",
      "---  ------               --------------   -----  \n",
      " 0   hour_of_day          105112 non-null  int64  \n",
      " 1   day_of_week          105112 non-null  int64  \n",
      " 2   day_of_year          105112 non-null  int64  \n",
      " 3   outside_temp         105112 non-null  float64\n",
      " 4   outside_humidity     105112 non-null  float64\n",
      " 5   is_occupied          105112 non-null  int64  \n",
      " 6   room_temp            105112 non-null  float64\n",
      " 7   month_of_year        105112 non-null  int32  \n",
      " 8   is_weekend           105112 non-null  int64  \n",
      " 9   future_occupied      105112 non-null  int64  \n",
      " 10  occ_lag1             105112 non-null  float64\n",
      " 11  occ_lag2             105112 non-null  float64\n",
      " 12  occ_lag3             105112 non-null  float64\n",
      " 13  temp_lag1            105112 non-null  float64\n",
      " 14  temp_lag2            105112 non-null  float64\n",
      " 15  occ_rolling_mean_3   105112 non-null  float64\n",
      " 16  temp_rolling_mean_3  105112 non-null  float64\n",
      " 17  hour_of_day_sin      105112 non-null  float64\n",
      " 18  hour_of_day_cos      105112 non-null  float64\n",
      " 19  day_of_week_sin      105112 non-null  float64\n",
      " 20  day_of_week_cos      105112 non-null  float64\n",
      " 21  weather_encoded      105112 non-null  int64  \n",
      "dtypes: float64(14), int32(1), int64(7)\n",
      "memory usage: 17.2 MB\n"
     ]
    }
   ],
   "source": [
    "df.describe()\n",
    "df.info()"
   ]
  },
  {
   "cell_type": "code",
   "execution_count": 34,
   "id": "e3ad20fc",
   "metadata": {},
   "outputs": [
    {
     "data": {
      "text/html": [
       "<div>\n",
       "<style scoped>\n",
       "    .dataframe tbody tr th:only-of-type {\n",
       "        vertical-align: middle;\n",
       "    }\n",
       "\n",
       "    .dataframe tbody tr th {\n",
       "        vertical-align: top;\n",
       "    }\n",
       "\n",
       "    .dataframe thead th {\n",
       "        text-align: right;\n",
       "    }\n",
       "</style>\n",
       "<table border=\"1\" class=\"dataframe\">\n",
       "  <thead>\n",
       "    <tr style=\"text-align: right;\">\n",
       "      <th></th>\n",
       "      <th>hour_of_day</th>\n",
       "      <th>day_of_week</th>\n",
       "      <th>day_of_year</th>\n",
       "      <th>outside_temp</th>\n",
       "      <th>outside_humidity</th>\n",
       "      <th>is_occupied</th>\n",
       "      <th>room_temp</th>\n",
       "      <th>month_of_year</th>\n",
       "      <th>is_weekend</th>\n",
       "      <th>future_occupied</th>\n",
       "      <th>...</th>\n",
       "      <th>occ_lag3</th>\n",
       "      <th>temp_lag1</th>\n",
       "      <th>temp_lag2</th>\n",
       "      <th>occ_rolling_mean_3</th>\n",
       "      <th>temp_rolling_mean_3</th>\n",
       "      <th>hour_of_day_sin</th>\n",
       "      <th>hour_of_day_cos</th>\n",
       "      <th>day_of_week_sin</th>\n",
       "      <th>day_of_week_cos</th>\n",
       "      <th>weather_encoded</th>\n",
       "    </tr>\n",
       "  </thead>\n",
       "  <tbody>\n",
       "    <tr>\n",
       "      <th>0</th>\n",
       "      <td>0</td>\n",
       "      <td>0</td>\n",
       "      <td>1</td>\n",
       "      <td>24.303581</td>\n",
       "      <td>60.938152</td>\n",
       "      <td>0</td>\n",
       "      <td>25.963821</td>\n",
       "      <td>1</td>\n",
       "      <td>0</td>\n",
       "      <td>0</td>\n",
       "      <td>...</td>\n",
       "      <td>0.0</td>\n",
       "      <td>25.950910</td>\n",
       "      <td>26.035342</td>\n",
       "      <td>0.0</td>\n",
       "      <td>25.983358</td>\n",
       "      <td>0.0</td>\n",
       "      <td>1.0</td>\n",
       "      <td>0.0</td>\n",
       "      <td>1.0</td>\n",
       "      <td>0</td>\n",
       "    </tr>\n",
       "    <tr>\n",
       "      <th>1</th>\n",
       "      <td>0</td>\n",
       "      <td>0</td>\n",
       "      <td>1</td>\n",
       "      <td>24.758471</td>\n",
       "      <td>63.247443</td>\n",
       "      <td>0</td>\n",
       "      <td>25.913660</td>\n",
       "      <td>1</td>\n",
       "      <td>0</td>\n",
       "      <td>0</td>\n",
       "      <td>...</td>\n",
       "      <td>0.0</td>\n",
       "      <td>25.963821</td>\n",
       "      <td>25.950910</td>\n",
       "      <td>0.0</td>\n",
       "      <td>25.942797</td>\n",
       "      <td>0.0</td>\n",
       "      <td>1.0</td>\n",
       "      <td>0.0</td>\n",
       "      <td>1.0</td>\n",
       "      <td>1</td>\n",
       "    </tr>\n",
       "    <tr>\n",
       "      <th>2</th>\n",
       "      <td>0</td>\n",
       "      <td>0</td>\n",
       "      <td>1</td>\n",
       "      <td>24.712898</td>\n",
       "      <td>60.000000</td>\n",
       "      <td>0</td>\n",
       "      <td>25.995986</td>\n",
       "      <td>1</td>\n",
       "      <td>0</td>\n",
       "      <td>0</td>\n",
       "      <td>...</td>\n",
       "      <td>0.0</td>\n",
       "      <td>25.913660</td>\n",
       "      <td>25.963821</td>\n",
       "      <td>0.0</td>\n",
       "      <td>25.957823</td>\n",
       "      <td>0.0</td>\n",
       "      <td>1.0</td>\n",
       "      <td>0.0</td>\n",
       "      <td>1.0</td>\n",
       "      <td>1</td>\n",
       "    </tr>\n",
       "    <tr>\n",
       "      <th>3</th>\n",
       "      <td>0</td>\n",
       "      <td>0</td>\n",
       "      <td>1</td>\n",
       "      <td>24.686746</td>\n",
       "      <td>62.035080</td>\n",
       "      <td>0</td>\n",
       "      <td>25.980230</td>\n",
       "      <td>1</td>\n",
       "      <td>0</td>\n",
       "      <td>0</td>\n",
       "      <td>...</td>\n",
       "      <td>0.0</td>\n",
       "      <td>25.995986</td>\n",
       "      <td>25.913660</td>\n",
       "      <td>0.0</td>\n",
       "      <td>25.963292</td>\n",
       "      <td>0.0</td>\n",
       "      <td>1.0</td>\n",
       "      <td>0.0</td>\n",
       "      <td>1.0</td>\n",
       "      <td>0</td>\n",
       "    </tr>\n",
       "    <tr>\n",
       "      <th>4</th>\n",
       "      <td>0</td>\n",
       "      <td>0</td>\n",
       "      <td>1</td>\n",
       "      <td>24.218533</td>\n",
       "      <td>60.000000</td>\n",
       "      <td>0</td>\n",
       "      <td>25.954011</td>\n",
       "      <td>1</td>\n",
       "      <td>0</td>\n",
       "      <td>0</td>\n",
       "      <td>...</td>\n",
       "      <td>0.0</td>\n",
       "      <td>25.980230</td>\n",
       "      <td>25.995986</td>\n",
       "      <td>0.0</td>\n",
       "      <td>25.976743</td>\n",
       "      <td>0.0</td>\n",
       "      <td>1.0</td>\n",
       "      <td>0.0</td>\n",
       "      <td>1.0</td>\n",
       "      <td>0</td>\n",
       "    </tr>\n",
       "  </tbody>\n",
       "</table>\n",
       "<p>5 rows × 22 columns</p>\n",
       "</div>"
      ],
      "text/plain": [
       "   hour_of_day  day_of_week  day_of_year  outside_temp  outside_humidity  \\\n",
       "0            0            0            1     24.303581         60.938152   \n",
       "1            0            0            1     24.758471         63.247443   \n",
       "2            0            0            1     24.712898         60.000000   \n",
       "3            0            0            1     24.686746         62.035080   \n",
       "4            0            0            1     24.218533         60.000000   \n",
       "\n",
       "   is_occupied  room_temp  month_of_year  is_weekend  future_occupied  ...  \\\n",
       "0            0  25.963821              1           0                0  ...   \n",
       "1            0  25.913660              1           0                0  ...   \n",
       "2            0  25.995986              1           0                0  ...   \n",
       "3            0  25.980230              1           0                0  ...   \n",
       "4            0  25.954011              1           0                0  ...   \n",
       "\n",
       "   occ_lag3  temp_lag1  temp_lag2  occ_rolling_mean_3  temp_rolling_mean_3  \\\n",
       "0       0.0  25.950910  26.035342                 0.0            25.983358   \n",
       "1       0.0  25.963821  25.950910                 0.0            25.942797   \n",
       "2       0.0  25.913660  25.963821                 0.0            25.957823   \n",
       "3       0.0  25.995986  25.913660                 0.0            25.963292   \n",
       "4       0.0  25.980230  25.995986                 0.0            25.976743   \n",
       "\n",
       "   hour_of_day_sin  hour_of_day_cos  day_of_week_sin  day_of_week_cos  \\\n",
       "0              0.0              1.0              0.0              1.0   \n",
       "1              0.0              1.0              0.0              1.0   \n",
       "2              0.0              1.0              0.0              1.0   \n",
       "3              0.0              1.0              0.0              1.0   \n",
       "4              0.0              1.0              0.0              1.0   \n",
       "\n",
       "   weather_encoded  \n",
       "0                0  \n",
       "1                1  \n",
       "2                1  \n",
       "3                0  \n",
       "4                0  \n",
       "\n",
       "[5 rows x 22 columns]"
      ]
     },
     "execution_count": 34,
     "metadata": {},
     "output_type": "execute_result"
    }
   ],
   "source": [
    "df.head()"
   ]
  },
  {
   "cell_type": "markdown",
   "id": "590f9017",
   "metadata": {},
   "source": [
    "## Model training"
   ]
  },
  {
   "cell_type": "code",
   "execution_count": 35,
   "id": "5b1bc661",
   "metadata": {},
   "outputs": [
    {
     "name": "stdout",
     "output_type": "stream",
     "text": [
      "Full dataset shape: (105112, 20)\n",
      "Validation set shape: (84089, 20)\n",
      "Test set shape: (21023, 20)\n"
     ]
    }
   ],
   "source": [
    "X = df.drop([\"is_occupied\", \"future_occupied\"], axis=1)\n",
    "y = df[\"future_occupied\"]\n",
    "\n",
    "# We will hold this test set back until the very end.\n",
    "test_size_percentage = 0.2\n",
    "split_index = int(len(X) * (1 - test_size_percentage))\n",
    "\n",
    "# The first 80% of the data is for training and validation\n",
    "X_train_val = X.iloc[:split_index]\n",
    "y_train_val = y.iloc[:split_index]\n",
    "\n",
    "# The final 20% of the data is our untouchable test set\n",
    "X_test = X.iloc[split_index:]\n",
    "y_test = y.iloc[split_index:]\n",
    "\n",
    "print(f\"Full dataset shape: {X.shape}\")\n",
    "print(f\"Validation set shape: {X_train_val.shape}\")\n",
    "print(f\"Test set shape: {X_test.shape}\")"
   ]
  },
  {
   "cell_type": "code",
   "execution_count": 36,
   "id": "02e10908",
   "metadata": {},
   "outputs": [
    {
     "name": "stderr",
     "output_type": "stream",
     "text": [
      "[I 2025-09-06 23:52:09,335] A new study created in memory with name: no-name-d2f58034-f14a-40c1-8b1f-fe6b294af22f\n"
     ]
    },
    {
     "name": "stdout",
     "output_type": "stream",
     "text": [
      "\n",
      "Start Optuna study to find the best hyperparameters\n"
     ]
    },
    {
     "name": "stderr",
     "output_type": "stream",
     "text": [
      "[I 2025-09-06 23:52:20,007] Trial 0 finished with value: 0.8273246993006633 and parameters: {'max_depth': 7, 'learning_rate': 0.016131212592241633, 'n_estimators': 574, 'subsample': 0.692292801190289, 'colsample_bytree': 0.6383843427661501}. Best is trial 0 with value: 0.8273246993006633.\n",
      "[I 2025-09-06 23:52:24,982] Trial 1 finished with value: 0.8171429873231393 and parameters: {'max_depth': 3, 'learning_rate': 0.07281133277412315, 'n_estimators': 499, 'subsample': 0.8972902604943048, 'colsample_bytree': 0.9536392151657448}. Best is trial 0 with value: 0.8273246993006633.\n",
      "[I 2025-09-06 23:52:27,638] Trial 2 finished with value: 0.8380968794944301 and parameters: {'max_depth': 7, 'learning_rate': 0.026299418295413192, 'n_estimators': 169, 'subsample': 0.9670368508309162, 'colsample_bytree': 0.9098397809098611}. Best is trial 2 with value: 0.8380968794944301.\n",
      "[I 2025-09-06 23:52:32,889] Trial 3 finished with value: 0.8306949481646143 and parameters: {'max_depth': 7, 'learning_rate': 0.016044346627447807, 'n_estimators': 473, 'subsample': 0.7059776451773876, 'colsample_bytree': 0.9369537197473533}. Best is trial 2 with value: 0.8380968794944301.\n",
      "[I 2025-09-06 23:52:37,884] Trial 4 finished with value: 0.8425444068083939 and parameters: {'max_depth': 6, 'learning_rate': 0.011003830824178731, 'n_estimators': 547, 'subsample': 0.9935942763108375, 'colsample_bytree': 0.641201784490179}. Best is trial 4 with value: 0.8425444068083939.\n",
      "[I 2025-09-06 23:52:39,217] Trial 5 finished with value: 0.8435260253398529 and parameters: {'max_depth': 4, 'learning_rate': 0.04855602144965838, 'n_estimators': 145, 'subsample': 0.7327872040855371, 'colsample_bytree': 0.7100378434625234}. Best is trial 5 with value: 0.8435260253398529.\n",
      "[I 2025-09-06 23:52:47,843] Trial 6 finished with value: 0.8145107972836698 and parameters: {'max_depth': 9, 'learning_rate': 0.03606427640905189, 'n_estimators': 629, 'subsample': 0.6207402422513647, 'colsample_bytree': 0.7034398331789153}. Best is trial 5 with value: 0.8435260253398529.\n",
      "[I 2025-09-06 23:52:54,098] Trial 7 finished with value: 0.8417971807423882 and parameters: {'max_depth': 3, 'learning_rate': 0.016092896169494213, 'n_estimators': 971, 'subsample': 0.6101712421529133, 'colsample_bytree': 0.6958023326534465}. Best is trial 5 with value: 0.8435260253398529.\n",
      "[I 2025-09-06 23:52:55,977] Trial 8 finished with value: 0.8207658783366816 and parameters: {'max_depth': 9, 'learning_rate': 0.0764416349255421, 'n_estimators': 115, 'subsample': 0.7554803211629013, 'colsample_bytree': 0.8988643256806929}. Best is trial 5 with value: 0.8435260253398529.\n",
      "[I 2025-09-06 23:53:07,765] Trial 9 finished with value: 0.8119253661777099 and parameters: {'max_depth': 9, 'learning_rate': 0.04032099323873021, 'n_estimators': 903, 'subsample': 0.6596541656498957, 'colsample_bytree': 0.7091377228066258}. Best is trial 5 with value: 0.8435260253398529.\n",
      "[I 2025-09-06 23:53:10,325] Trial 10 finished with value: 0.799416266672331 and parameters: {'max_depth': 5, 'learning_rate': 0.22286520252333153, 'n_estimators': 306, 'subsample': 0.8397146570568561, 'colsample_bytree': 0.7986237677246778}. Best is trial 5 with value: 0.8435260253398529.\n",
      "[I 2025-09-06 23:53:15,813] Trial 11 finished with value: 0.788258810364295 and parameters: {'max_depth': 5, 'learning_rate': 0.15433916329693553, 'n_estimators': 813, 'subsample': 0.9851739471794557, 'colsample_bytree': 0.6208730429301906}. Best is trial 5 with value: 0.8435260253398529.\n",
      "[I 2025-09-06 23:53:18,701] Trial 12 finished with value: 0.8528808530291985 and parameters: {'max_depth': 5, 'learning_rate': 0.010183756172826684, 'n_estimators': 324, 'subsample': 0.8097312141796391, 'colsample_bytree': 0.7842922526503917}. Best is trial 12 with value: 0.8528808530291985.\n",
      "[I 2025-09-06 23:53:21,013] Trial 13 finished with value: 0.8121275614386277 and parameters: {'max_depth': 4, 'learning_rate': 0.1106871376938719, 'n_estimators': 305, 'subsample': 0.7964324813239902, 'colsample_bytree': 0.7972425405903355}. Best is trial 12 with value: 0.8528808530291985.\n",
      "[I 2025-09-06 23:53:23,776] Trial 14 finished with value: 0.8389339965859424 and parameters: {'max_depth': 5, 'learning_rate': 0.028668009738911825, 'n_estimators': 296, 'subsample': 0.8489968849512669, 'colsample_bytree': 0.8504783128043243}. Best is trial 12 with value: 0.8528808530291985.\n",
      "[I 2025-09-06 23:53:25,509] Trial 15 finished with value: 0.7965189865523917 and parameters: {'max_depth': 4, 'learning_rate': 0.2691615286835013, 'n_estimators': 221, 'subsample': 0.7515358349292433, 'colsample_bytree': 0.754338365577915}. Best is trial 12 with value: 0.8528808530291985.\n",
      "[I 2025-09-06 23:53:29,128] Trial 16 finished with value: 0.8131815196900323 and parameters: {'max_depth': 6, 'learning_rate': 0.058115808470001244, 'n_estimators': 404, 'subsample': 0.7645680305860043, 'colsample_bytree': 0.7531288454714825}. Best is trial 12 with value: 0.8528808530291985.\n",
      "[I 2025-09-06 23:53:33,942] Trial 17 finished with value: 0.8397014478198936 and parameters: {'max_depth': 4, 'learning_rate': 0.011639140385611191, 'n_estimators': 673, 'subsample': 0.9060491600398832, 'colsample_bytree': 0.8508041584050541}. Best is trial 12 with value: 0.8528808530291985.\n",
      "[I 2025-09-06 23:53:35,074] Trial 18 finished with value: 0.8379093449138046 and parameters: {'max_depth': 3, 'learning_rate': 0.11793719114545355, 'n_estimators': 102, 'subsample': 0.8121131385695691, 'colsample_bytree': 0.9963105412635245}. Best is trial 12 with value: 0.8528808530291985.\n",
      "[I 2025-09-06 23:53:39,840] Trial 19 finished with value: 0.8247565942493363 and parameters: {'max_depth': 8, 'learning_rate': 0.022568017364422308, 'n_estimators': 373, 'subsample': 0.7216975871230533, 'colsample_bytree': 0.7528317594541113}. Best is trial 12 with value: 0.8528808530291985.\n",
      "[I 2025-09-06 23:53:41,775] Trial 20 finished with value: 0.831173904597178 and parameters: {'max_depth': 5, 'learning_rate': 0.05519555183923281, 'n_estimators': 221, 'subsample': 0.870526394846272, 'colsample_bytree': 0.8408766764272049}. Best is trial 12 with value: 0.8528808530291985.\n",
      "[I 2025-09-06 23:53:48,400] Trial 21 finished with value: 0.8384048350643318 and parameters: {'max_depth': 6, 'learning_rate': 0.010247103150059604, 'n_estimators': 733, 'subsample': 0.9516423426059397, 'colsample_bytree': 0.6794393063162302}. Best is trial 12 with value: 0.8528808530291985.\n",
      "[I 2025-09-06 23:53:52,413] Trial 22 finished with value: 0.845725229694224 and parameters: {'max_depth': 6, 'learning_rate': 0.012492170039249288, 'n_estimators': 417, 'subsample': 0.9320954145762876, 'colsample_bytree': 0.6550756284736755}. Best is trial 12 with value: 0.8528808530291985.\n",
      "[I 2025-09-06 23:53:55,413] Trial 23 finished with value: 0.8461448897785893 and parameters: {'max_depth': 4, 'learning_rate': 0.02002270538738386, 'n_estimators': 403, 'subsample': 0.9397899517528263, 'colsample_bytree': 0.6658359645405576}. Best is trial 12 with value: 0.8528808530291985.\n",
      "[I 2025-09-06 23:54:02,244] Trial 24 finished with value: 0.8187588409980924 and parameters: {'max_depth': 10, 'learning_rate': 0.020339958123517732, 'n_estimators': 425, 'subsample': 0.9287812644721583, 'colsample_bytree': 0.669397991767523}. Best is trial 12 with value: 0.8528808530291985.\n",
      "[I 2025-09-06 23:54:05,944] Trial 25 finished with value: 0.8465462595781797 and parameters: {'max_depth': 6, 'learning_rate': 0.014209854311022008, 'n_estimators': 347, 'subsample': 0.9300013048768108, 'colsample_bytree': 0.6007433794886584}. Best is trial 12 with value: 0.8528808530291985.\n",
      "[I 2025-09-06 23:54:09,357] Trial 26 finished with value: 0.8494014963969534 and parameters: {'max_depth': 5, 'learning_rate': 0.014395499780398885, 'n_estimators': 350, 'subsample': 0.8838570604031897, 'colsample_bytree': 0.6177210292433556}. Best is trial 12 with value: 0.8528808530291985.\n",
      "[I 2025-09-06 23:54:11,915] Trial 27 finished with value: 0.8536356194417911 and parameters: {'max_depth': 5, 'learning_rate': 0.013863404972728244, 'n_estimators': 238, 'subsample': 0.875627571097729, 'colsample_bytree': 0.6067976650434705}. Best is trial 27 with value: 0.8536356194417911.\n",
      "[I 2025-09-06 23:54:14,256] Trial 28 finished with value: 0.845254101603601 and parameters: {'max_depth': 5, 'learning_rate': 0.03128737626714643, 'n_estimators': 244, 'subsample': 0.7942675801023243, 'colsample_bytree': 0.6037989266381019}. Best is trial 27 with value: 0.8536356194417911.\n",
      "[I 2025-09-06 23:54:17,571] Trial 29 finished with value: 0.8325487628645789 and parameters: {'max_depth': 8, 'learning_rate': 0.01847462643534204, 'n_estimators': 266, 'subsample': 0.8764528911093836, 'colsample_bytree': 0.6329177108813457}. Best is trial 27 with value: 0.8536356194417911.\n",
      "[I 2025-09-06 23:54:19,439] Trial 30 finished with value: 0.8537794263897925 and parameters: {'max_depth': 5, 'learning_rate': 0.01415332880577068, 'n_estimators': 197, 'subsample': 0.835785458871499, 'colsample_bytree': 0.726692557370924}. Best is trial 30 with value: 0.8537794263897925.\n",
      "[I 2025-09-06 23:54:21,260] Trial 31 finished with value: 0.8535562947489101 and parameters: {'max_depth': 5, 'learning_rate': 0.014410357691058456, 'n_estimators': 190, 'subsample': 0.8318055797054408, 'colsample_bytree': 0.7453378058537496}. Best is trial 30 with value: 0.8537794263897925.\n",
      "[I 2025-09-06 23:54:23,019] Trial 32 finished with value: 0.8538495817739218 and parameters: {'max_depth': 5, 'learning_rate': 0.010286091656779569, 'n_estimators': 186, 'subsample': 0.826786978563721, 'colsample_bytree': 0.7732924310578358}. Best is trial 32 with value: 0.8538495817739218.\n",
      "[I 2025-09-06 23:54:24,707] Trial 33 finished with value: 0.8555842290292475 and parameters: {'max_depth': 4, 'learning_rate': 0.013560400030632122, 'n_estimators': 188, 'subsample': 0.8342226998816027, 'colsample_bytree': 0.7318252613372714}. Best is trial 33 with value: 0.8555842290292475.\n",
      "[I 2025-09-06 23:54:26,153] Trial 34 finished with value: 0.8637073489191349 and parameters: {'max_depth': 3, 'learning_rate': 0.02175385502888086, 'n_estimators': 176, 'subsample': 0.8577197737073363, 'colsample_bytree': 0.7291552671815053}. Best is trial 34 with value: 0.8637073489191349.\n",
      "[I 2025-09-06 23:54:27,609] Trial 35 finished with value: 0.8639376451577438 and parameters: {'max_depth': 3, 'learning_rate': 0.02462860657633696, 'n_estimators': 181, 'subsample': 0.8509587289573557, 'colsample_bytree': 0.7315039480589695}. Best is trial 35 with value: 0.8639376451577438.\n",
      "[I 2025-09-06 23:54:29,038] Trial 36 finished with value: 0.8638344895161036 and parameters: {'max_depth': 3, 'learning_rate': 0.025200505370979308, 'n_estimators': 144, 'subsample': 0.8503155001970021, 'colsample_bytree': 0.7711203857966592}. Best is trial 35 with value: 0.8639376451577438.\n",
      "[I 2025-09-06 23:54:30,360] Trial 37 finished with value: 0.8629637584026654 and parameters: {'max_depth': 3, 'learning_rate': 0.02776982149271727, 'n_estimators': 158, 'subsample': 0.8558643472692858, 'colsample_bytree': 0.8176013945862933}. Best is trial 35 with value: 0.8639376451577438.\n",
      "[I 2025-09-06 23:54:31,590] Trial 38 finished with value: 0.8637487358368897 and parameters: {'max_depth': 3, 'learning_rate': 0.0260547732147643, 'n_estimators': 141, 'subsample': 0.9019835741411057, 'colsample_bytree': 0.8231465192348972}. Best is trial 35 with value: 0.8639376451577438.\n",
      "[I 2025-09-06 23:54:32,699] Trial 39 finished with value: 0.863599214088603 and parameters: {'max_depth': 3, 'learning_rate': 0.024020025607395343, 'n_estimators': 121, 'subsample': 0.8976013976600101, 'colsample_bytree': 0.8818586767687875}. Best is trial 35 with value: 0.8639376451577438.\n",
      "[I 2025-09-06 23:54:36,161] Trial 40 finished with value: 0.8315233839284965 and parameters: {'max_depth': 3, 'learning_rate': 0.03870418644160563, 'n_estimators': 529, 'subsample': 0.8995428498465348, 'colsample_bytree': 0.7701592082516782}. Best is trial 35 with value: 0.8639376451577438.\n",
      "[I 2025-09-06 23:54:37,293] Trial 41 finished with value: 0.8643093591292292 and parameters: {'max_depth': 3, 'learning_rate': 0.021942070014264133, 'n_estimators': 131, 'subsample': 0.9111177962749207, 'colsample_bytree': 0.8927978886794021}. Best is trial 41 with value: 0.8643093591292292.\n",
      "[I 2025-09-06 23:54:38,535] Trial 42 finished with value: 0.8591491777589827 and parameters: {'max_depth': 3, 'learning_rate': 0.03398281227104242, 'n_estimators': 147, 'subsample': 0.9564356385013484, 'colsample_bytree': 0.9485357537350981}. Best is trial 41 with value: 0.8643093591292292.\n",
      "[I 2025-09-06 23:54:39,533] Trial 43 finished with value: 0.8625000105429977 and parameters: {'max_depth': 3, 'learning_rate': 0.04521693200160073, 'n_estimators': 107, 'subsample': 0.9100272277038824, 'colsample_bytree': 0.8817622838704237}. Best is trial 41 with value: 0.8643093591292292.\n",
      "[I 2025-09-06 23:54:40,822] Trial 44 finished with value: 0.8605166221896681 and parameters: {'max_depth': 3, 'learning_rate': 0.017250003075541642, 'n_estimators': 155, 'subsample': 0.8545443341485797, 'colsample_bytree': 0.8321017662116987}. Best is trial 41 with value: 0.8643093591292292.\n",
      "[I 2025-09-06 23:54:43,031] Trial 45 finished with value: 0.8491124724636456 and parameters: {'max_depth': 4, 'learning_rate': 0.02460579313810925, 'n_estimators': 259, 'subsample': 0.9169164743838497, 'colsample_bytree': 0.7203776203364868}. Best is trial 41 with value: 0.8643093591292292.\n",
      "[I 2025-09-06 23:54:45,113] Trial 46 finished with value: 0.850737502130406 and parameters: {'max_depth': 3, 'learning_rate': 0.02227669777143842, 'n_estimators': 284, 'subsample': 0.9753599243788824, 'colsample_bytree': 0.9207884265234643}. Best is trial 41 with value: 0.8643093591292292.\n",
      "[I 2025-09-06 23:54:48,540] Trial 47 finished with value: 0.8322362830922408 and parameters: {'max_depth': 4, 'learning_rate': 0.03068231935175311, 'n_estimators': 481, 'subsample': 0.7856166717145598, 'colsample_bytree': 0.8133796282605389}. Best is trial 41 with value: 0.8643093591292292.\n",
      "[I 2025-09-06 23:54:49,485] Trial 48 finished with value: 0.8492045436228318 and parameters: {'max_depth': 3, 'learning_rate': 0.06878578232764467, 'n_estimators': 101, 'subsample': 0.8853158035039097, 'colsample_bytree': 0.6913771757826535}. Best is trial 41 with value: 0.8643093591292292.\n",
      "[I 2025-09-06 23:54:50,788] Trial 49 finished with value: 0.8463834507408763 and parameters: {'max_depth': 4, 'learning_rate': 0.04765166377262958, 'n_estimators': 139, 'subsample': 0.7779963525522053, 'colsample_bytree': 0.975296341077525}. Best is trial 41 with value: 0.8643093591292292.\n"
     ]
    },
    {
     "name": "stdout",
     "output_type": "stream",
     "text": [
      "\n",
      "Hyperparameter search complete\n",
      "Number of finished trials: 50\n",
      "Best trial's F1-score: 0.8643\n",
      "Best parameters found:\n",
      "  max_depth: 3\n",
      "  learning_rate: 0.021942070014264133\n",
      "  n_estimators: 131\n",
      "  subsample: 0.9111177962749207\n",
      "  colsample_bytree: 0.8927978886794021\n",
      "\n",
      "Training the final model with the best found parameters\n",
      "\n",
      "Evaluating the BEST model on the unseen Test Set\n",
      "\n",
      "Final Performance Report on Test Set:\n",
      "                  precision    recall  f1-score   support\n",
      "\n",
      "   Will be Empty       0.91      0.87      0.89     11792\n",
      "Will be Occupied       0.84      0.89      0.86      9231\n",
      "\n",
      "        accuracy                           0.88     21023\n",
      "       macro avg       0.88      0.88      0.88     21023\n",
      "    weighted avg       0.88      0.88      0.88     21023\n",
      "\n"
     ]
    }
   ],
   "source": [
    "def objective(trial):\n",
    "    # Define the hyperparameter search space for this trial\n",
    "    params = {\n",
    "        'max_depth': trial.suggest_int('max_depth', 3, 10),\n",
    "        'learning_rate': trial.suggest_float('learning_rate', 0.01, 0.3, log=True),\n",
    "        'n_estimators': trial.suggest_int('n_estimators', 100, 1000),\n",
    "        'subsample': trial.suggest_float('subsample', 0.6, 1.0),\n",
    "        'colsample_bytree': trial.suggest_float('colsample_bytree', 0.6, 1.0),\n",
    "    }\n",
    "    \n",
    "    # Initialize the model with the suggested hyperparameters\n",
    "    scale_pos_weight_value = (y_train_val == 0).sum() / (y_train_val == 1).sum()\n",
    "    model = XGBClassifier(\n",
    "        objective='binary:logistic',\n",
    "        random_state=42,\n",
    "        scale_pos_weight=scale_pos_weight_value,\n",
    "        **params # Unpack the suggested parameters here\n",
    "    )\n",
    "\n",
    "    # Get a robust performance score using TimeSeriesSplit cross-validation\n",
    "    tscv = TimeSeriesSplit(n_splits=5)\n",
    "    score = cross_val_score(model, X_train_val, y_train_val, cv=tscv, scoring='f1', n_jobs=-1)\n",
    "    \n",
    "    # Return the average score for this set of hyperparameters\n",
    "    return score.mean()\n",
    "\n",
    "print(\"\\nStart Optuna study to find the best hyperparameters\")\n",
    "# to maximize f1-score\n",
    "study = optuna.create_study(direction='maximize')\n",
    "\n",
    "# 50 trials for optuna\n",
    "study.optimize(objective, n_trials=50)\n",
    "\n",
    "\n",
    "# Results\n",
    "print(\"\\nHyperparameter search complete\")\n",
    "print(f\"Number of finished trials: {len(study.trials)}\")\n",
    "print(f\"Best trial's F1-score: {study.best_value:.4f}\")\n",
    "print(\"Best parameters found:\")\n",
    "for key, value in study.best_params.items():\n",
    "    print(f\"  {key}: {value}\")\n",
    "\n",
    "best_params = study.best_params\n",
    "\n",
    "\n",
    "# Train the Final Model with the Best Parameters\n",
    "print(\"\\nTraining the final model with the best found parameters\")\n",
    "final_model = XGBClassifier(\n",
    "    objective='binary:logistic',\n",
    "    random_state=42,\n",
    "    scale_pos_weight=(y_train_val == 0).sum() / (y_train_val == 1).sum(),\n",
    "    **best_params # Use the best parameters found by Optuna\n",
    ")\n",
    "final_model.fit(X_train_val, y_train_val)\n",
    "\n",
    "\n",
    "# Final Evaluation on the Held-Back Test Set\n",
    "print(\"\\nEvaluating the BEST model on the unseen Test Set\")\n",
    "final_predictions = final_model.predict(X_test)\n",
    "\n",
    "print(\"\\nFinal Performance Report on Test Set:\")\n",
    "print(classification_report(y_test, final_predictions, target_names=['Will be Empty', 'Will be Occupied']))"
   ]
  },
  {
   "cell_type": "markdown",
   "id": "813a1a1b",
   "metadata": {},
   "source": [
    "## Export the model"
   ]
  },
  {
   "cell_type": "code",
   "execution_count": 37,
   "id": "73002d9b",
   "metadata": {},
   "outputs": [
    {
     "data": {
      "text/plain": [
       "['occupancy_pred.joblib']"
      ]
     },
     "execution_count": 37,
     "metadata": {},
     "output_type": "execute_result"
    }
   ],
   "source": [
    "joblib.dump(final_model, 'occupancy_pred.joblib')"
   ]
  }
 ],
 "metadata": {
  "kernelspec": {
   "display_name": "Python 3.13 (SCADAi)",
   "language": "python",
   "name": "scadai_3.13"
  },
  "language_info": {
   "codemirror_mode": {
    "name": "ipython",
    "version": 3
   },
   "file_extension": ".py",
   "mimetype": "text/x-python",
   "name": "python",
   "nbconvert_exporter": "python",
   "pygments_lexer": "ipython3",
   "version": "3.13.7"
  }
 },
 "nbformat": 4,
 "nbformat_minor": 5
}
