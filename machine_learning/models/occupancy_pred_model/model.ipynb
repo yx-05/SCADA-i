{
 "cells": [
  {
   "cell_type": "markdown",
   "id": "7d8b0b8e",
   "metadata": {},
   "source": [
    "## Import Libraries"
   ]
  },
  {
   "cell_type": "code",
   "execution_count": 1,
   "id": "8af97ba8",
   "metadata": {},
   "outputs": [],
   "source": [
    "import pandas as pd\n",
    "import numpy as np\n",
    "import matplotlib.pyplot as plt\n",
    "\n",
    "from sklearn.preprocessing import LabelEncoder, StandardScaler\n",
    "from sklearn.model_selection import train_test_split, cross_val_score\n",
    "from sklearn.metrics import accuracy_score, classification_report\n",
    "from sklearn.preprocessing import StandardScaler\n",
    "from sklearn.model_selection import TimeSeriesSplit\n",
    "\n",
    "import xgboost as xgb\n",
    "from xgboost import XGBClassifier, XGBRegressor\n",
    "\n",
    "import optuna\n",
    "\n",
    "import joblib\n",
    "\n",
    "import shap\n"
   ]
  },
  {
   "cell_type": "markdown",
   "id": "9bd6258a",
   "metadata": {},
   "source": [
    "## Import dataset"
   ]
  },
  {
   "cell_type": "code",
   "execution_count": 2,
   "id": "df7d0f95",
   "metadata": {},
   "outputs": [],
   "source": [
    "df = pd.read_csv('dataset.csv')"
   ]
  },
  {
   "cell_type": "markdown",
   "id": "1f905b98",
   "metadata": {},
   "source": [
    "## Handling null values"
   ]
  },
  {
   "cell_type": "code",
   "execution_count": 3,
   "id": "4f40cf76",
   "metadata": {},
   "outputs": [
    {
     "data": {
      "text/plain": [
       "timestamp                0\n",
       "hour_of_day              0\n",
       "day_of_week              0\n",
       "day_of_year              0\n",
       "outside_temp             0\n",
       "outside_humidity         0\n",
       "weather_condition        0\n",
       "occupancy_count          0\n",
       "is_occupied              0\n",
       "room_temp                0\n",
       "power_kw                 0\n",
       "fan_speed                0\n",
       "ac_temp_setting      59002\n",
       "ac_control_reason        0\n",
       "dtype: int64"
      ]
     },
     "execution_count": 3,
     "metadata": {},
     "output_type": "execute_result"
    }
   ],
   "source": [
    "df.isna().sum()"
   ]
  },
  {
   "cell_type": "markdown",
   "id": "2d9bb201",
   "metadata": {},
   "source": [
    "looks like the ac_temp_setting is null when the compressor is turned off, so we remain it as NaN"
   ]
  },
  {
   "cell_type": "markdown",
   "id": "eeb02e1b",
   "metadata": {},
   "source": [
    "## Feature importance filter"
   ]
  },
  {
   "cell_type": "code",
   "execution_count": 4,
   "id": "01d4a531",
   "metadata": {},
   "outputs": [
    {
     "name": "stderr",
     "output_type": "stream",
     "text": [
      "d:\\Github\\campus_bms\\machine_learning\\models\\occupancy_pred_model\\venv\\Lib\\site-packages\\xgboost\\training.py:183: UserWarning: [12:23:24] WARNING: C:\\actions-runner\\_work\\xgboost\\xgboost\\src\\learner.cc:738: \n",
      "Parameters: { \"use_label_encoder\" } are not used.\n",
      "\n",
      "  bst.update(dtrain, iteration=i, fobj=obj)\n"
     ]
    },
    {
     "name": "stdout",
     "output_type": "stream",
     "text": [
      "Accuracy: 0.9287514863258026\n"
     ]
    }
   ],
   "source": [
    "# Make a copy of df\n",
    "df_copy = df.copy()\n",
    "\n",
    "# Ensure categorical types\n",
    "for col in df_copy.select_dtypes(include=[\"object\"]).columns:\n",
    "    df_copy[col] = df_copy[col].astype(\"category\")\n",
    "\n",
    "# Split features and target\n",
    "# Removing the non-predictors features after some testing\n",
    "# Remove also timestamp as it is already have its features in the dataset\n",
    "X = df_copy.drop([\"is_occupied\", \"timestamp\", \"occupancy_count\", \"ac_control_reason\", \"power_kw\", \"fan_speed\", \"ac_temp_setting\"], axis=1) \n",
    "y = df_copy[\"is_occupied\"]\n",
    "\n",
    "X_train, X_test, y_train, y_test = train_test_split(\n",
    "    X, y, test_size=0.2, random_state=42\n",
    ")\n",
    "\n",
    "# Train\n",
    "model = xgb.XGBClassifier(\n",
    "    enable_categorical=True,\n",
    "    tree_method=\"hist\", \n",
    "    eval_metric=\"logloss\",\n",
    "    use_label_encoder=False\n",
    ")\n",
    "\n",
    "model.fit(X_train, y_train)\n",
    "\n",
    "# Predictions\n",
    "y_pred = model.predict(X_test)\n",
    "\n",
    "# Evaluate\n",
    "accuracy = accuracy_score(y_test, y_pred)\n",
    "print(\"Accuracy:\", accuracy)\n"
   ]
  },
  {
   "cell_type": "code",
   "execution_count": 5,
   "id": "41539e4f",
   "metadata": {},
   "outputs": [
    {
     "data": {
      "image/png": "[encoded data removed]",
      "text/plain": [
       "<Figure size 800x600 with 1 Axes>"
      ]
     },
     "metadata": {},
     "output_type": "display_data"
    }
   ],
   "source": [
    "# --- 3. Extract and sort feature importances ---\n",
    "importances = model.feature_importances_\n",
    "\n",
    "feat_importance = pd.DataFrame({\n",
    "    \"Feature\": X.columns,\n",
    "    \"Importance\": importances\n",
    "}).sort_values(by=\"Importance\", ascending=True)  # sort ascending for barh\n",
    "\n",
    "# --- 4. Plot nicely ---\n",
    "plt.figure(figsize=(8, 6))\n",
    "plt.barh(feat_importance[\"Feature\"], feat_importance[\"Importance\"])\n",
    "plt.xlabel(\"Importance Score\")\n",
    "plt.title(\"XGBoost Feature Importance (with categorical support)\")\n",
    "plt.show()"
   ]
  },
  {
   "cell_type": "markdown",
   "id": "10b7aae0",
   "metadata": {},
   "source": [
    "After a bunch of testing, we realize that \"occupancy_count\", \"ac_control_reason\", \"power_kw\", \"fan_speed\", \"ac_temp_setting\" is dependent to \"is_occupied\", the target variable. So we remove them as they are not predictors. "
   ]
  },
  {
   "cell_type": "markdown",
   "id": "424575fc",
   "metadata": {},
   "source": [
    "## Preprocessing"
   ]
  },
  {
   "cell_type": "markdown",
   "id": "6de4cc26",
   "metadata": {},
   "source": [
    "Dropping non-predictors columns"
   ]
  },
  {
   "cell_type": "code",
   "execution_count": 6,
   "id": "988136de",
   "metadata": {},
   "outputs": [],
   "source": [
    "df = df.drop([\"occupancy_count\", \"ac_control_reason\", \"power_kw\", \"fan_speed\", \"ac_temp_setting\"], axis=1)"
   ]
  },
  {
   "cell_type": "markdown",
   "id": "5cc594ca",
   "metadata": {},
   "source": [
    "Feature engineering for timestamp"
   ]
  },
  {
   "cell_type": "code",
   "execution_count": 7,
   "id": "46ac5e37",
   "metadata": {},
   "outputs": [],
   "source": [
    "# convert to timestamp\n",
    "df['timestamp'] = pd.to_datetime(df['timestamp'])\n",
    "\n",
    "# Extract features\n",
    "df['month_of_year'] = df['timestamp'].dt.month\n",
    "df['is_weekend'] = (df['day_of_week'] >= 5).astype(int)\n",
    "\n",
    "# Drop the raw timestamp column\n",
    "df = df.drop('timestamp', axis=1)"
   ]
  },
  {
   "cell_type": "markdown",
   "id": "a494d5c5",
   "metadata": {},
   "source": [
    "Generating prediction window for the model to learn ahead occupancy\n",
    "\n",
    "This would be the target variable which means \"current_time + 30 min\" will be occupied or not"
   ]
  },
  {
   "cell_type": "code",
   "execution_count": 8,
   "id": "7f701280",
   "metadata": {},
   "outputs": [],
   "source": [
    "# Predict if room will be occupied in next 30 minutes (6 rows if data is 5-min intervals)\n",
    "prediction_window = 6  # 30 minutes ahead\n",
    "\n",
    "df['future_occupied'] = (df['is_occupied'].shift(-prediction_window) == 1).astype(int)\n",
    "\n",
    "# Drop last 6 rows (no future data)\n",
    "df = df.iloc[:-prediction_window]"
   ]
  },
  {
   "cell_type": "markdown",
   "id": "8a8e64ae",
   "metadata": {},
   "source": [
    "Lag features for previous occupancy"
   ]
  },
  {
   "cell_type": "code",
   "execution_count": 9,
   "id": "4b135598",
   "metadata": {},
   "outputs": [],
   "source": [
    "# Previous occupancy status\n",
    "df['occ_lag1'] = df['is_occupied'].shift(1)\n",
    "df['occ_lag2'] = df['is_occupied'].shift(2)\n",
    "df['occ_lag3'] = df['is_occupied'].shift(3)"
   ]
  },
  {
   "cell_type": "code",
   "execution_count": 10,
   "id": "38c59a17",
   "metadata": {},
   "outputs": [],
   "source": [
    "# Previous temperature\n",
    "df['temp_lag1'] = df['room_temp'].shift(1)\n",
    "df['temp_lag2'] = df['room_temp'].shift(2)"
   ]
  },
  {
   "cell_type": "code",
   "execution_count": 11,
   "id": "c595c94b",
   "metadata": {},
   "outputs": [],
   "source": [
    "# Rolling averages\n",
    "df['occ_rolling_mean_3'] = df['is_occupied'].rolling(window=3).mean()\n",
    "df['temp_rolling_mean_3'] = df['room_temp'].rolling(window=3).mean()"
   ]
  },
  {
   "cell_type": "markdown",
   "id": "6b062a9a",
   "metadata": {},
   "source": [
    "Drop the NaN caused by the lag features for first few row"
   ]
  },
  {
   "cell_type": "code",
   "execution_count": 12,
   "id": "add0eb9e",
   "metadata": {},
   "outputs": [],
   "source": [
    "df = df.dropna(subset=[\"occ_lag1\", \"occ_lag2\", \"occ_lag3\"]).reset_index(drop=True)"
   ]
  },
  {
   "cell_type": "code",
   "execution_count": 13,
   "id": "f04d67a6",
   "metadata": {},
   "outputs": [],
   "source": [
    "# Create cyclical features for time\n",
    "def encode_cyclical(df, col, max_val):\n",
    "    df[col + '_sin'] = np.sin(2 * np.pi * df[col] / max_val)\n",
    "    df[col + '_cos'] = np.cos(2 * np.pi * df[col] / max_val)\n",
    "    return df\n",
    "\n",
    "df = encode_cyclical(df, 'hour_of_day', 24)\n",
    "df = encode_cyclical(df, 'day_of_week', 7)"
   ]
  },
  {
   "cell_type": "code",
   "execution_count": 14,
   "id": "c92205be",
   "metadata": {},
   "outputs": [],
   "source": [
    "# Label encode weather condition\n",
    "le_weather = LabelEncoder()\n",
    "df['weather_encoded'] = le_weather.fit_transform(df['weather_condition'])\n",
    "\n",
    "df = df.drop(\"weather_condition\", axis=1)"
   ]
  },
  {
   "cell_type": "code",
   "execution_count": 15,
   "id": "d04f232b",
   "metadata": {},
   "outputs": [
    {
     "name": "stdout",
     "output_type": "stream",
     "text": [
      "<class 'pandas.core.frame.DataFrame'>\n",
      "RangeIndex: 105112 entries, 0 to 105111\n",
      "Data columns (total 22 columns):\n",
      " #   Column               Non-Null Count   Dtype  \n",
      "---  ------               --------------   -----  \n",
      " 0   hour_of_day          105112 non-null  int64  \n",
      " 1   day_of_week          105112 non-null  int64  \n",
      " 2   day_of_year          105112 non-null  int64  \n",
      " 3   outside_temp         105112 non-null  float64\n",
      " 4   outside_humidity     105112 non-null  float64\n",
      " 5   is_occupied          105112 non-null  int64  \n",
      " 6   room_temp            105112 non-null  float64\n",
      " 7   month_of_year        105112 non-null  int32  \n",
      " 8   is_weekend           105112 non-null  int64  \n",
      " 9   future_occupied      105112 non-null  int64  \n",
      " 10  occ_lag1             105112 non-null  float64\n",
      " 11  occ_lag2             105112 non-null  float64\n",
      " 12  occ_lag3             105112 non-null  float64\n",
      " 13  temp_lag1            105112 non-null  float64\n",
      " 14  temp_lag2            105112 non-null  float64\n",
      " 15  occ_rolling_mean_3   105112 non-null  float64\n",
      " 16  temp_rolling_mean_3  105112 non-null  float64\n",
      " 17  hour_of_day_sin      105112 non-null  float64\n",
      " 18  hour_of_day_cos      105112 non-null  float64\n",
      " 19  day_of_week_sin      105112 non-null  float64\n",
      " 20  day_of_week_cos      105112 non-null  float64\n",
      " 21  weather_encoded      105112 non-null  int64  \n",
      "dtypes: float64(14), int32(1), int64(7)\n",
      "memory usage: 17.2 MB\n"
     ]
    }
   ],
   "source": [
    "df.describe()\n",
    "df.info()"
   ]
  },
  {
   "cell_type": "code",
   "execution_count": 16,
   "id": "e3ad20fc",
   "metadata": {},
   "outputs": [
    {
     "data": {
      "text/html": [
       "<div>\n",
       "<style scoped>\n",
       "    .dataframe tbody tr th:only-of-type {\n",
       "        vertical-align: middle;\n",
       "    }\n",
       "\n",
       "    .dataframe tbody tr th {\n",
       "        vertical-align: top;\n",
       "    }\n",
       "\n",
       "    .dataframe thead th {\n",
       "        text-align: right;\n",
       "    }\n",
       "</style>\n",
       "<table border=\"1\" class=\"dataframe\">\n",
       "  <thead>\n",
       "    <tr style=\"text-align: right;\">\n",
       "      <th></th>\n",
       "      <th>hour_of_day</th>\n",
       "      <th>day_of_week</th>\n",
       "      <th>day_of_year</th>\n",
       "      <th>outside_temp</th>\n",
       "      <th>outside_humidity</th>\n",
       "      <th>is_occupied</th>\n",
       "      <th>room_temp</th>\n",
       "      <th>month_of_year</th>\n",
       "      <th>is_weekend</th>\n",
       "      <th>future_occupied</th>\n",
       "      <th>...</th>\n",
       "      <th>occ_lag3</th>\n",
       "      <th>temp_lag1</th>\n",
       "      <th>temp_lag2</th>\n",
       "      <th>occ_rolling_mean_3</th>\n",
       "      <th>temp_rolling_mean_3</th>\n",
       "      <th>hour_of_day_sin</th>\n",
       "      <th>hour_of_day_cos</th>\n",
       "      <th>day_of_week_sin</th>\n",
       "      <th>day_of_week_cos</th>\n",
       "      <th>weather_encoded</th>\n",
       "    </tr>\n",
       "  </thead>\n",
       "  <tbody>\n",
       "    <tr>\n",
       "      <th>0</th>\n",
       "      <td>0</td>\n",
       "      <td>0</td>\n",
       "      <td>1</td>\n",
       "      <td>24.970486</td>\n",
       "      <td>65.615747</td>\n",
       "      <td>0</td>\n",
       "      <td>25.933911</td>\n",
       "      <td>1</td>\n",
       "      <td>0</td>\n",
       "      <td>0</td>\n",
       "      <td>...</td>\n",
       "      <td>0.0</td>\n",
       "      <td>25.949107</td>\n",
       "      <td>26.037660</td>\n",
       "      <td>0.0</td>\n",
       "      <td>25.973559</td>\n",
       "      <td>0.0</td>\n",
       "      <td>1.0</td>\n",
       "      <td>0.0</td>\n",
       "      <td>1.0</td>\n",
       "      <td>0</td>\n",
       "    </tr>\n",
       "    <tr>\n",
       "      <th>1</th>\n",
       "      <td>0</td>\n",
       "      <td>0</td>\n",
       "      <td>1</td>\n",
       "      <td>24.346744</td>\n",
       "      <td>62.063288</td>\n",
       "      <td>0</td>\n",
       "      <td>25.852349</td>\n",
       "      <td>1</td>\n",
       "      <td>0</td>\n",
       "      <td>0</td>\n",
       "      <td>...</td>\n",
       "      <td>0.0</td>\n",
       "      <td>25.933911</td>\n",
       "      <td>25.949107</td>\n",
       "      <td>0.0</td>\n",
       "      <td>25.911789</td>\n",
       "      <td>0.0</td>\n",
       "      <td>1.0</td>\n",
       "      <td>0.0</td>\n",
       "      <td>1.0</td>\n",
       "      <td>0</td>\n",
       "    </tr>\n",
       "    <tr>\n",
       "      <th>2</th>\n",
       "      <td>0</td>\n",
       "      <td>0</td>\n",
       "      <td>1</td>\n",
       "      <td>25.090406</td>\n",
       "      <td>68.249939</td>\n",
       "      <td>0</td>\n",
       "      <td>25.816791</td>\n",
       "      <td>1</td>\n",
       "      <td>0</td>\n",
       "      <td>0</td>\n",
       "      <td>...</td>\n",
       "      <td>0.0</td>\n",
       "      <td>25.852349</td>\n",
       "      <td>25.933911</td>\n",
       "      <td>0.0</td>\n",
       "      <td>25.867684</td>\n",
       "      <td>0.0</td>\n",
       "      <td>1.0</td>\n",
       "      <td>0.0</td>\n",
       "      <td>1.0</td>\n",
       "      <td>1</td>\n",
       "    </tr>\n",
       "    <tr>\n",
       "      <th>3</th>\n",
       "      <td>0</td>\n",
       "      <td>0</td>\n",
       "      <td>1</td>\n",
       "      <td>24.844961</td>\n",
       "      <td>68.059241</td>\n",
       "      <td>0</td>\n",
       "      <td>25.832636</td>\n",
       "      <td>1</td>\n",
       "      <td>0</td>\n",
       "      <td>0</td>\n",
       "      <td>...</td>\n",
       "      <td>0.0</td>\n",
       "      <td>25.816791</td>\n",
       "      <td>25.852349</td>\n",
       "      <td>0.0</td>\n",
       "      <td>25.833925</td>\n",
       "      <td>0.0</td>\n",
       "      <td>1.0</td>\n",
       "      <td>0.0</td>\n",
       "      <td>1.0</td>\n",
       "      <td>0</td>\n",
       "    </tr>\n",
       "    <tr>\n",
       "      <th>4</th>\n",
       "      <td>0</td>\n",
       "      <td>0</td>\n",
       "      <td>1</td>\n",
       "      <td>24.423887</td>\n",
       "      <td>60.000000</td>\n",
       "      <td>0</td>\n",
       "      <td>25.767326</td>\n",
       "      <td>1</td>\n",
       "      <td>0</td>\n",
       "      <td>0</td>\n",
       "      <td>...</td>\n",
       "      <td>0.0</td>\n",
       "      <td>25.832636</td>\n",
       "      <td>25.816791</td>\n",
       "      <td>0.0</td>\n",
       "      <td>25.805584</td>\n",
       "      <td>0.0</td>\n",
       "      <td>1.0</td>\n",
       "      <td>0.0</td>\n",
       "      <td>1.0</td>\n",
       "      <td>0</td>\n",
       "    </tr>\n",
       "  </tbody>\n",
       "</table>\n",
       "<p>5 rows × 22 columns</p>\n",
       "</div>"
      ],
      "text/plain": [
       "   hour_of_day  day_of_week  day_of_year  outside_temp  outside_humidity  \\\n",
       "0            0            0            1     24.970486         65.615747   \n",
       "1            0            0            1     24.346744         62.063288   \n",
       "2            0            0            1     25.090406         68.249939   \n",
       "3            0            0            1     24.844961         68.059241   \n",
       "4            0            0            1     24.423887         60.000000   \n",
       "\n",
       "   is_occupied  room_temp  month_of_year  is_weekend  future_occupied  ...  \\\n",
       "0            0  25.933911              1           0                0  ...   \n",
       "1            0  25.852349              1           0                0  ...   \n",
       "2            0  25.816791              1           0                0  ...   \n",
       "3            0  25.832636              1           0                0  ...   \n",
       "4            0  25.767326              1           0                0  ...   \n",
       "\n",
       "   occ_lag3  temp_lag1  temp_lag2  occ_rolling_mean_3  temp_rolling_mean_3  \\\n",
       "0       0.0  25.949107  26.037660                 0.0            25.973559   \n",
       "1       0.0  25.933911  25.949107                 0.0            25.911789   \n",
       "2       0.0  25.852349  25.933911                 0.0            25.867684   \n",
       "3       0.0  25.816791  25.852349                 0.0            25.833925   \n",
       "4       0.0  25.832636  25.816791                 0.0            25.805584   \n",
       "\n",
       "   hour_of_day_sin  hour_of_day_cos  day_of_week_sin  day_of_week_cos  \\\n",
       "0              0.0              1.0              0.0              1.0   \n",
       "1              0.0              1.0              0.0              1.0   \n",
       "2              0.0              1.0              0.0              1.0   \n",
       "3              0.0              1.0              0.0              1.0   \n",
       "4              0.0              1.0              0.0              1.0   \n",
       "\n",
       "   weather_encoded  \n",
       "0                0  \n",
       "1                0  \n",
       "2                1  \n",
       "3                0  \n",
       "4                0  \n",
       "\n",
       "[5 rows x 22 columns]"
      ]
     },
     "execution_count": 16,
     "metadata": {},
     "output_type": "execute_result"
    }
   ],
   "source": [
    "df.head()"
   ]
  },
  {
   "cell_type": "markdown",
   "id": "590f9017",
   "metadata": {},
   "source": [
    "## Model training"
   ]
  },
  {
   "cell_type": "code",
   "execution_count": 17,
   "id": "5b1bc661",
   "metadata": {},
   "outputs": [
    {
     "name": "stdout",
     "output_type": "stream",
     "text": [
      "Full dataset shape: (105112, 20)\n",
      "Validation set shape: (84089, 20)\n",
      "Test set shape: (21023, 20)\n"
     ]
    }
   ],
   "source": [
    "X = df.drop([\"is_occupied\", \"future_occupied\"], axis=1)\n",
    "y = df[\"future_occupied\"]\n",
    "\n",
    "# We will hold this test set back until the very end.\n",
    "test_size_percentage = 0.2\n",
    "split_index = int(len(X) * (1 - test_size_percentage))\n",
    "\n",
    "# The first 80% of the data is for training and validation\n",
    "X_train_val = X.iloc[:split_index]\n",
    "y_train_val = y.iloc[:split_index]\n",
    "\n",
    "# The final 20% of the data is our untouchable test set\n",
    "X_test = X.iloc[split_index:]\n",
    "y_test = y.iloc[split_index:]\n",
    "\n",
    "print(f\"Full dataset shape: {X.shape}\")\n",
    "print(f\"Validation set shape: {X_train_val.shape}\")\n",
    "print(f\"Test set shape: {X_test.shape}\")"
   ]
  },
  {
   "cell_type": "code",
   "execution_count": 18,
   "id": "02e10908",
   "metadata": {},
   "outputs": [
    {
     "name": "stderr",
     "output_type": "stream",
     "text": [
      "[I 2025-09-07 12:23:25,881] A new study created in memory with name: no-name-17d9fd80-2e29-44c2-819f-5a5d3794eca1\n"
     ]
    },
    {
     "name": "stdout",
     "output_type": "stream",
     "text": [
      "\n",
      "Start Optuna study to find the best hyperparameters\n"
     ]
    },
    {
     "name": "stderr",
     "output_type": "stream",
     "text": [
      "[I 2025-09-07 12:23:33,635] Trial 0 finished with value: 0.8117067371661617 and parameters: {'max_depth': 4, 'learning_rate': 0.0734008395818298, 'n_estimators': 608, 'subsample': 0.663815553782214, 'colsample_bytree': 0.7602495390971633}. Best is trial 0 with value: 0.8117067371661617.\n",
      "[I 2025-09-07 12:23:43,073] Trial 1 finished with value: 0.7851062451427432 and parameters: {'max_depth': 4, 'learning_rate': 0.20420717625424237, 'n_estimators': 977, 'subsample': 0.6911548692563527, 'colsample_bytree': 0.9642835705118835}. Best is trial 0 with value: 0.8117067371661617.\n",
      "[I 2025-09-07 12:23:46,138] Trial 2 finished with value: 0.8364001344172929 and parameters: {'max_depth': 8, 'learning_rate': 0.018203287395092495, 'n_estimators': 152, 'subsample': 0.8050199731945797, 'colsample_bytree': 0.7879426728584298}. Best is trial 2 with value: 0.8364001344172929.\n",
      "[I 2025-09-07 12:23:49,029] Trial 3 finished with value: 0.8003975875856574 and parameters: {'max_depth': 7, 'learning_rate': 0.2650055357085792, 'n_estimators': 234, 'subsample': 0.6529225242565039, 'colsample_bytree': 0.6065702082954721}. Best is trial 2 with value: 0.8364001344172929.\n",
      "[I 2025-09-07 12:23:50,146] Trial 4 finished with value: 0.8201918140519877 and parameters: {'max_depth': 4, 'learning_rate': 0.19767881772686324, 'n_estimators': 101, 'subsample': 0.6970053699074849, 'colsample_bytree': 0.9317691776031019}. Best is trial 2 with value: 0.8364001344172929.\n",
      "[I 2025-09-07 12:23:56,247] Trial 5 finished with value: 0.7895638233303824 and parameters: {'max_depth': 3, 'learning_rate': 0.242668708132099, 'n_estimators': 889, 'subsample': 0.8707818829594798, 'colsample_bytree': 0.7906789292016928}. Best is trial 2 with value: 0.8364001344172929.\n",
      "[I 2025-09-07 12:23:57,561] Trial 6 finished with value: 0.837285385849906 and parameters: {'max_depth': 3, 'learning_rate': 0.18188278035123998, 'n_estimators': 107, 'subsample': 0.6987339109113225, 'colsample_bytree': 0.7654268714092812}. Best is trial 6 with value: 0.837285385849906.\n",
      "[I 2025-09-07 12:24:02,483] Trial 7 finished with value: 0.8605288016219161 and parameters: {'max_depth': 4, 'learning_rate': 0.010649837004863775, 'n_estimators': 455, 'subsample': 0.6430371734664678, 'colsample_bytree': 0.6852525161007639}. Best is trial 7 with value: 0.8605288016219161.\n",
      "[I 2025-09-07 12:24:06,796] Trial 8 finished with value: 0.8012224906550829 and parameters: {'max_depth': 3, 'learning_rate': 0.13744188809025826, 'n_estimators': 502, 'subsample': 0.8423992040462613, 'colsample_bytree': 0.9886560444920351}. Best is trial 7 with value: 0.8605288016219161.\n",
      "[I 2025-09-07 12:24:09,768] Trial 9 finished with value: 0.8126438749382006 and parameters: {'max_depth': 4, 'learning_rate': 0.12991242178189338, 'n_estimators': 309, 'subsample': 0.8356041273286033, 'colsample_bytree': 0.7814723138492232}. Best is trial 7 with value: 0.8605288016219161.\n",
      "[I 2025-09-07 12:24:22,240] Trial 10 finished with value: 0.8227023600630219 and parameters: {'max_depth': 10, 'learning_rate': 0.010057020370048164, 'n_estimators': 542, 'subsample': 0.9315242491296698, 'colsample_bytree': 0.6458677903247441}. Best is trial 7 with value: 0.8605288016219161.\n",
      "[I 2025-09-07 12:24:26,464] Trial 11 finished with value: 0.825388119278967 and parameters: {'max_depth': 6, 'learning_rate': 0.03308821906033852, 'n_estimators': 403, 'subsample': 0.7318301607198517, 'colsample_bytree': 0.6895008203402624}. Best is trial 7 with value: 0.8605288016219161.\n",
      "[I 2025-09-07 12:24:33,714] Trial 12 finished with value: 0.8026870635923402 and parameters: {'max_depth': 6, 'learning_rate': 0.05905178597612951, 'n_estimators': 722, 'subsample': 0.6003202079649923, 'colsample_bytree': 0.7094447903911191}. Best is trial 7 with value: 0.8605288016219161.\n",
      "[I 2025-09-07 12:24:36,626] Trial 13 finished with value: 0.8410692249343524 and parameters: {'max_depth': 5, 'learning_rate': 0.031950072748182894, 'n_estimators': 290, 'subsample': 0.7605114982122556, 'colsample_bytree': 0.8930869813969708}. Best is trial 7 with value: 0.8605288016219161.\n",
      "[I 2025-09-07 12:24:40,301] Trial 14 finished with value: 0.8376357490317581 and parameters: {'max_depth': 5, 'learning_rate': 0.030408650424473643, 'n_estimators': 368, 'subsample': 0.7483440754397802, 'colsample_bytree': 0.8791183413386715}. Best is trial 7 with value: 0.8605288016219161.\n",
      "[I 2025-09-07 12:24:44,999] Trial 15 finished with value: 0.849021005648309 and parameters: {'max_depth': 5, 'learning_rate': 0.013423471805416521, 'n_estimators': 450, 'subsample': 0.7848181023872964, 'colsample_bytree': 0.8740031603402274}. Best is trial 7 with value: 0.8605288016219161.\n",
      "[I 2025-09-07 12:24:53,954] Trial 16 finished with value: 0.8274953341716811 and parameters: {'max_depth': 7, 'learning_rate': 0.010344556986404562, 'n_estimators': 716, 'subsample': 0.9401688509841921, 'colsample_bytree': 0.8643648944035254}. Best is trial 7 with value: 0.8605288016219161.\n",
      "[I 2025-09-07 12:25:01,910] Trial 17 finished with value: 0.8178785573408127 and parameters: {'max_depth': 9, 'learning_rate': 0.016876345429140047, 'n_estimators': 467, 'subsample': 0.9942347970781089, 'colsample_bytree': 0.830196459606265}. Best is trial 7 with value: 0.8605288016219161.\n",
      "[I 2025-09-07 12:25:08,586] Trial 18 finished with value: 0.8396566033819933 and parameters: {'max_depth': 5, 'learning_rate': 0.015996991838306433, 'n_estimators': 619, 'subsample': 0.6054448909493072, 'colsample_bytree': 0.7307648348336196}. Best is trial 7 with value: 0.8605288016219161.\n",
      "[I 2025-09-07 12:25:16,080] Trial 19 finished with value: 0.8164712908455385 and parameters: {'max_depth': 6, 'learning_rate': 0.020865116990743213, 'n_estimators': 733, 'subsample': 0.7870727197235368, 'colsample_bytree': 0.833899821523893}. Best is trial 7 with value: 0.8605288016219161.\n",
      "[I 2025-09-07 12:25:20,537] Trial 20 finished with value: 0.8525128341732611 and parameters: {'max_depth': 5, 'learning_rate': 0.01236614506682061, 'n_estimators': 434, 'subsample': 0.8902519693848696, 'colsample_bytree': 0.6676233612479826}. Best is trial 7 with value: 0.8605288016219161.\n",
      "[I 2025-09-07 12:25:24,881] Trial 21 finished with value: 0.850853059788394 and parameters: {'max_depth': 5, 'learning_rate': 0.012934679779490782, 'n_estimators': 434, 'subsample': 0.8807488954275309, 'colsample_bytree': 0.6582292915399967}. Best is trial 7 with value: 0.8605288016219161.\n",
      "[I 2025-09-07 12:25:28,619] Trial 22 finished with value: 0.8441349630248693 and parameters: {'max_depth': 5, 'learning_rate': 0.02368670241350686, 'n_estimators': 373, 'subsample': 0.8968141258778584, 'colsample_bytree': 0.6603941768152161}. Best is trial 7 with value: 0.8605288016219161.\n",
      "[I 2025-09-07 12:25:33,637] Trial 23 finished with value: 0.8539937953605081 and parameters: {'max_depth': 4, 'learning_rate': 0.012775459044393176, 'n_estimators': 605, 'subsample': 0.9107908963224718, 'colsample_bytree': 0.6083260469167655}. Best is trial 7 with value: 0.8605288016219161.\n",
      "[I 2025-09-07 12:25:38,940] Trial 24 finished with value: 0.8506461783210609 and parameters: {'max_depth': 4, 'learning_rate': 0.013413191899311934, 'n_estimators': 634, 'subsample': 0.9963645859425212, 'colsample_bytree': 0.6051292284613764}. Best is trial 7 with value: 0.8605288016219161.\n",
      "[I 2025-09-07 12:25:44,693] Trial 25 finished with value: 0.8275289144826286 and parameters: {'max_depth': 3, 'learning_rate': 0.045499032098197494, 'n_estimators': 822, 'subsample': 0.9298884649436531, 'colsample_bytree': 0.6324767989802392}. Best is trial 7 with value: 0.8605288016219161.\n",
      "[I 2025-09-07 12:25:49,163] Trial 26 finished with value: 0.8387146056953441 and parameters: {'max_depth': 4, 'learning_rate': 0.024502455682317844, 'n_estimators': 547, 'subsample': 0.9589462024349361, 'colsample_bytree': 0.6823065809890543}. Best is trial 7 with value: 0.8605288016219161.\n",
      "[I 2025-09-07 12:25:55,493] Trial 27 finished with value: 0.8389681842870453 and parameters: {'max_depth': 6, 'learning_rate': 0.010114499602497818, 'n_estimators': 668, 'subsample': 0.8973456831100359, 'colsample_bytree': 0.731167793908434}. Best is trial 7 with value: 0.8605288016219161.\n",
      "[I 2025-09-07 12:25:59,136] Trial 28 finished with value: 0.8423632737110449 and parameters: {'max_depth': 7, 'learning_rate': 0.013674619422640448, 'n_estimators': 313, 'subsample': 0.8361585238969338, 'colsample_bytree': 0.625273898718715}. Best is trial 7 with value: 0.8605288016219161.\n",
      "[I 2025-09-07 12:26:03,365] Trial 29 finished with value: 0.8077796695519842 and parameters: {'max_depth': 4, 'learning_rate': 0.08587760974982238, 'n_estimators': 574, 'subsample': 0.6433496233445734, 'colsample_bytree': 0.737970974609658}. Best is trial 7 with value: 0.8605288016219161.\n",
      "[I 2025-09-07 12:26:05,044] Trial 30 finished with value: 0.8629109818520849 and parameters: {'max_depth': 3, 'learning_rate': 0.020385420076564166, 'n_estimators': 217, 'subsample': 0.9637463810819737, 'colsample_bytree': 0.6769428293810374}. Best is trial 30 with value: 0.8629109818520849.\n",
      "[I 2025-09-07 12:26:06,639] Trial 31 finished with value: 0.8617812625860806 and parameters: {'max_depth': 3, 'learning_rate': 0.01936809603583023, 'n_estimators': 191, 'subsample': 0.9648992603929839, 'colsample_bytree': 0.6953685120610386}. Best is trial 30 with value: 0.8629109818520849.\n",
      "[I 2025-09-07 12:26:08,165] Trial 32 finished with value: 0.8606458226052537 and parameters: {'max_depth': 3, 'learning_rate': 0.01976308081483681, 'n_estimators': 172, 'subsample': 0.9654799967925786, 'colsample_bytree': 0.6916389113341891}. Best is trial 30 with value: 0.8629109818520849.\n",
      "[I 2025-09-07 12:26:09,812] Trial 33 finished with value: 0.8589029578592854 and parameters: {'max_depth': 3, 'learning_rate': 0.04092495902864062, 'n_estimators': 216, 'subsample': 0.9748797736512403, 'colsample_bytree': 0.6916146150437521}. Best is trial 30 with value: 0.8629109818520849.\n",
      "[I 2025-09-07 12:26:11,424] Trial 34 finished with value: 0.862778910844223 and parameters: {'max_depth': 3, 'learning_rate': 0.019707832684172925, 'n_estimators': 195, 'subsample': 0.9642421687735223, 'colsample_bytree': 0.7094872501472058}. Best is trial 30 with value: 0.8629109818520849.\n",
      "[I 2025-09-07 12:26:13,042] Trial 35 finished with value: 0.8628734366763136 and parameters: {'max_depth': 3, 'learning_rate': 0.019953689406225588, 'n_estimators': 197, 'subsample': 0.9566436059814686, 'colsample_bytree': 0.7075132039234516}. Best is trial 30 with value: 0.8629109818520849.\n",
      "[I 2025-09-07 12:26:15,172] Trial 36 finished with value: 0.861630468266763 and parameters: {'max_depth': 3, 'learning_rate': 0.025291119369357348, 'n_estimators': 253, 'subsample': 0.9551200300062468, 'colsample_bytree': 0.7482341641659221}. Best is trial 30 with value: 0.8629109818520849.\n",
      "[I 2025-09-07 12:26:16,653] Trial 37 finished with value: 0.8610375903110249 and parameters: {'max_depth': 3, 'learning_rate': 0.0168427899687453, 'n_estimators': 181, 'subsample': 0.9802777213969524, 'colsample_bytree': 0.7110573092624989}. Best is trial 30 with value: 0.8629109818520849.\n",
      "[I 2025-09-07 12:26:17,683] Trial 38 finished with value: 0.8631629597369852 and parameters: {'max_depth': 3, 'learning_rate': 0.03920716643500497, 'n_estimators': 106, 'subsample': 0.9194350805995906, 'colsample_bytree': 0.7658649505907662}. Best is trial 38 with value: 0.8631629597369852.\n",
      "[I 2025-09-07 12:26:19,742] Trial 39 finished with value: 0.8235083920609851 and parameters: {'max_depth': 8, 'learning_rate': 0.04119819597903946, 'n_estimators': 134, 'subsample': 0.9200563450031313, 'colsample_bytree': 0.7742236513546503}. Best is trial 38 with value: 0.8631629597369852.\n",
      "[I 2025-09-07 12:26:21,778] Trial 40 finished with value: 0.8240727345795189 and parameters: {'max_depth': 4, 'learning_rate': 0.07410520829852894, 'n_estimators': 254, 'subsample': 0.861301243687208, 'colsample_bytree': 0.815562349960644}. Best is trial 38 with value: 0.8631629597369852.\n",
      "[I 2025-09-07 12:26:22,735] Trial 41 finished with value: 0.8530977181436509 and parameters: {'max_depth': 3, 'learning_rate': 0.020442181862230582, 'n_estimators': 100, 'subsample': 0.9493531667210647, 'colsample_bytree': 0.7130242409226839}. Best is trial 38 with value: 0.8631629597369852.\n",
      "[I 2025-09-07 12:26:24,364] Trial 42 finished with value: 0.8613559174176121 and parameters: {'max_depth': 3, 'learning_rate': 0.030084573847766728, 'n_estimators': 212, 'subsample': 0.9786031608689248, 'colsample_bytree': 0.74881549327744}. Best is trial 38 with value: 0.8631629597369852.\n",
      "[I 2025-09-07 12:26:25,743] Trial 43 finished with value: 0.8632860650264108 and parameters: {'max_depth': 3, 'learning_rate': 0.026573550776103343, 'n_estimators': 153, 'subsample': 0.9143584949170526, 'colsample_bytree': 0.800202821208244}. Best is trial 43 with value: 0.8632860650264108.\n",
      "[I 2025-09-07 12:26:27,039] Trial 44 finished with value: 0.862909623496129 and parameters: {'max_depth': 3, 'learning_rate': 0.026511458308604133, 'n_estimators': 141, 'subsample': 0.9154357441869837, 'colsample_bytree': 0.7637909761431021}. Best is trial 43 with value: 0.8632860650264108.\n",
      "[I 2025-09-07 12:26:28,549] Trial 45 finished with value: 0.8565676256095317 and parameters: {'max_depth': 4, 'learning_rate': 0.03702054472968152, 'n_estimators': 153, 'subsample': 0.8605349295776432, 'colsample_bytree': 0.804908045764476}. Best is trial 43 with value: 0.8632860650264108.\n",
      "[I 2025-09-07 12:26:29,802] Trial 46 finished with value: 0.8593714400338556 and parameters: {'max_depth': 3, 'learning_rate': 0.05412562456618738, 'n_estimators': 137, 'subsample': 0.909866931223806, 'colsample_bytree': 0.7625572899765812}. Best is trial 43 with value: 0.8632860650264108.\n",
      "[I 2025-09-07 12:26:32,174] Trial 47 finished with value: 0.8530246276203766 and parameters: {'max_depth': 4, 'learning_rate': 0.025216769718901653, 'n_estimators': 276, 'subsample': 0.9350922216243721, 'colsample_bytree': 0.7819886285886953}. Best is trial 43 with value: 0.8632860650264108.\n",
      "[I 2025-09-07 12:26:34,753] Trial 48 finished with value: 0.8563276834086763 and parameters: {'max_depth': 3, 'learning_rate': 0.028448207336075334, 'n_estimators': 331, 'subsample': 0.9160558866378441, 'colsample_bytree': 0.8029660162389185}. Best is trial 43 with value: 0.8632860650264108.\n",
      "[I 2025-09-07 12:26:42,576] Trial 49 finished with value: 0.8128525971582347 and parameters: {'max_depth': 4, 'learning_rate': 0.03639779866871758, 'n_estimators': 1000, 'subsample': 0.8194265899315625, 'colsample_bytree': 0.8441182851239365}. Best is trial 43 with value: 0.8632860650264108.\n"
     ]
    },
    {
     "name": "stdout",
     "output_type": "stream",
     "text": [
      "\n",
      "Hyperparameter search complete\n",
      "Number of finished trials: 50\n",
      "Best trial's F1-score: 0.8633\n",
      "Best parameters found:\n",
      "  max_depth: 3\n",
      "  learning_rate: 0.026573550776103343\n",
      "  n_estimators: 153\n",
      "  subsample: 0.9143584949170526\n",
      "  colsample_bytree: 0.800202821208244\n",
      "\n",
      "Training the final model with the best found parameters\n",
      "\n",
      "Evaluating the BEST model on the unseen Test Set\n",
      "\n",
      "Final Performance Report on Test Set:\n",
      "                  precision    recall  f1-score   support\n",
      "\n",
      "   Will be Empty       0.90      0.86      0.88     11711\n",
      "Will be Occupied       0.84      0.88      0.86      9312\n",
      "\n",
      "        accuracy                           0.87     21023\n",
      "       macro avg       0.87      0.87      0.87     21023\n",
      "    weighted avg       0.87      0.87      0.87     21023\n",
      "\n"
     ]
    }
   ],
   "source": [
    "def objective(trial):\n",
    "    # Define the hyperparameter search space for this trial\n",
    "    params = {\n",
    "        'max_depth': trial.suggest_int('max_depth', 3, 10),\n",
    "        'learning_rate': trial.suggest_float('learning_rate', 0.01, 0.3, log=True),\n",
    "        'n_estimators': trial.suggest_int('n_estimators', 100, 1000),\n",
    "        'subsample': trial.suggest_float('subsample', 0.6, 1.0),\n",
    "        'colsample_bytree': trial.suggest_float('colsample_bytree', 0.6, 1.0),\n",
    "    }\n",
    "    \n",
    "    # Initialize the model with the suggested hyperparameters\n",
    "    scale_pos_weight_value = (y_train_val == 0).sum() / (y_train_val == 1).sum()\n",
    "    model = XGBClassifier(\n",
    "        objective='binary:logistic',\n",
    "        random_state=42,\n",
    "        scale_pos_weight=scale_pos_weight_value,\n",
    "        **params # Unpack the suggested parameters here\n",
    "    )\n",
    "\n",
    "    # Get a robust performance score using TimeSeriesSplit cross-validation\n",
    "    tscv = TimeSeriesSplit(n_splits=5)\n",
    "    score = cross_val_score(model, X_train_val, y_train_val, cv=tscv, scoring='f1', n_jobs=-1)\n",
    "    \n",
    "    # Return the average score for this set of hyperparameters\n",
    "    return score.mean()\n",
    "\n",
    "print(\"\\nStart Optuna study to find the best hyperparameters\")\n",
    "# to maximize f1-score\n",
    "study = optuna.create_study(direction='maximize')\n",
    "\n",
    "# 50 trials for optuna\n",
    "study.optimize(objective, n_trials=50)\n",
    "\n",
    "\n",
    "# Results\n",
    "print(\"\\nHyperparameter search complete\")\n",
    "print(f\"Number of finished trials: {len(study.trials)}\")\n",
    "print(f\"Best trial's F1-score: {study.best_value:.4f}\")\n",
    "print(\"Best parameters found:\")\n",
    "for key, value in study.best_params.items():\n",
    "    print(f\"  {key}: {value}\")\n",
    "\n",
    "best_params = study.best_params\n",
    "\n",
    "\n",
    "# Train the Final Model with the Best Parameters\n",
    "print(\"\\nTraining the final model with the best found parameters\")\n",
    "final_model = XGBClassifier(\n",
    "    objective='binary:logistic',\n",
    "    random_state=42,\n",
    "    scale_pos_weight=(y_train_val == 0).sum() / (y_train_val == 1).sum(),\n",
    "    **best_params # Use the best parameters found by Optuna\n",
    ")\n",
    "final_model.fit(X_train_val, y_train_val)\n",
    "\n",
    "\n",
    "# Final Evaluation on the Held-Back Test Set\n",
    "print(\"\\nEvaluating the BEST model on the unseen Test Set\")\n",
    "final_predictions = final_model.predict(X_test)\n",
    "\n",
    "print(\"\\nFinal Performance Report on Test Set:\")\n",
    "print(classification_report(y_test, final_predictions, target_names=['Will be Empty', 'Will be Occupied']))"
   ]
  },
  {
   "cell_type": "markdown",
   "id": "abaa0a84",
   "metadata": {},
   "source": [
    "## Explanability of the model"
   ]
  },
  {
   "cell_type": "code",
   "execution_count": null,
   "id": "a8768c71",
   "metadata": {},
   "outputs": [],
   "source": []
  },
  {
   "cell_type": "markdown",
   "id": "813a1a1b",
   "metadata": {},
   "source": [
    "## Export the model"
   ]
  },
  {
   "cell_type": "code",
   "execution_count": 19,
   "id": "73002d9b",
   "metadata": {},
   "outputs": [
    {
     "data": {
      "text/plain": [
       "['occupancy_pred.joblib']"
      ]
     },
     "execution_count": 19,
     "metadata": {},
     "output_type": "execute_result"
    }
   ],
   "source": [
    "joblib.dump(final_model, 'occupancy_pred.joblib')"
   ]
  }
 ],
 "metadata": {
  "kernelspec": {
   "display_name": "Python 3",
   "language": "python",
   "name": "python3"
  },
  "language_info": {
   "codemirror_mode": {
    "name": "ipython",
    "version": 3
   },
   "file_extension": ".py",
   "mimetype": "text/x-python",
   "name": "python",
   "nbconvert_exporter": "python",
   "pygments_lexer": "ipython3",
   "version": "3.13.7"
  }
 },
 "nbformat": 4,
 "nbformat_minor": 5
}
