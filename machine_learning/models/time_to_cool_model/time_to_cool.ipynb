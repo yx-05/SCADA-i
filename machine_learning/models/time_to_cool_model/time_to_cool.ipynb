{
 "cells": [
  {
   "cell_type": "markdown",
   "id": "414d652c",
   "metadata": {},
   "source": [
    "# **Time-to-Cool AI Model**\n",
    "### **Import library**\n",
    "Import required libraries and suppress warnings"
   ]
  },
  {
   "cell_type": "code",
   "execution_count": 494,
   "id": "fd0d9e39",
   "metadata": {},
   "outputs": [],
   "source": [
    "import pandas as pd\n",
    "import numpy as np\n",
    "import lightgbm as lgb\n",
    "import warnings\n",
    "import joblib\n",
    "\n",
    "from sklearn.metrics import mean_absolute_error, mean_squared_error\n",
    "\n",
    "warnings.filterwarnings('ignore')"
   ]
  },
  {
   "cell_type": "markdown",
   "id": "21c1e2b0",
   "metadata": {},
   "source": [
    "### **Data Loading**\n",
    "File path and constants"
   ]
  },
  {
   "cell_type": "code",
   "execution_count": 495,
   "id": "c217cf25",
   "metadata": {},
   "outputs": [],
   "source": [
    "PATH = 'dataset.csv'\n",
    "TARGET_TEMP = 23.0\n",
    "TARGET_BAND = 0.5   \n",
    "RESTART_HYST = 0.3  \n",
    "MAX_HORIZON_MIN = 240 "
   ]
  },
  {
   "cell_type": "markdown",
   "id": "379d55b1",
   "metadata": {},
   "source": [
    "### **Data Overview**\n",
    "Load the dataset, convert timestamps to proper datetime format and sort the rows by time"
   ]
  },
  {
   "cell_type": "code",
   "execution_count": 496,
   "id": "0367f7bd",
   "metadata": {},
   "outputs": [],
   "source": [
    "df = pd.read_csv(PATH, sep=',')\n",
    "df['timestamp'] = pd.to_datetime(df['timestamp'], errors='coerce')\n",
    "df = df.sort_values('timestamp').reset_index(drop=True)"
   ]
  },
  {
   "cell_type": "markdown",
   "id": "25771e20",
   "metadata": {},
   "source": [
    "Read the first few rows of the dataset to quickly check the data"
   ]
  },
  {
   "cell_type": "code",
   "execution_count": 497,
   "id": "43543a95",
   "metadata": {},
   "outputs": [
    {
     "data": {
      "text/html": [
       "<div>\n",
       "<style scoped>\n",
       "    .dataframe tbody tr th:only-of-type {\n",
       "        vertical-align: middle;\n",
       "    }\n",
       "\n",
       "    .dataframe tbody tr th {\n",
       "        vertical-align: top;\n",
       "    }\n",
       "\n",
       "    .dataframe thead th {\n",
       "        text-align: right;\n",
       "    }\n",
       "</style>\n",
       "<table border=\"1\" class=\"dataframe\">\n",
       "  <thead>\n",
       "    <tr style=\"text-align: right;\">\n",
       "      <th></th>\n",
       "      <th>timestamp</th>\n",
       "      <th>hour_of_day</th>\n",
       "      <th>day_of_week</th>\n",
       "      <th>day_of_year</th>\n",
       "      <th>outside_temp</th>\n",
       "      <th>outside_humidity</th>\n",
       "      <th>weather_condition</th>\n",
       "      <th>occupancy_count</th>\n",
       "      <th>is_occupied</th>\n",
       "      <th>room_temp</th>\n",
       "      <th>power_kw</th>\n",
       "      <th>fan_speed</th>\n",
       "      <th>ac_temp_setting</th>\n",
       "      <th>ac_control_reason</th>\n",
       "    </tr>\n",
       "  </thead>\n",
       "  <tbody>\n",
       "    <tr>\n",
       "      <th>0</th>\n",
       "      <td>2024-01-01 00:00:00</td>\n",
       "      <td>0</td>\n",
       "      <td>0</td>\n",
       "      <td>1</td>\n",
       "      <td>24.593342</td>\n",
       "      <td>60.000000</td>\n",
       "      <td>cloudy</td>\n",
       "      <td>0.0</td>\n",
       "      <td>0</td>\n",
       "      <td>26.006587</td>\n",
       "      <td>0.0</td>\n",
       "      <td>off</td>\n",
       "      <td>NaN</td>\n",
       "      <td>SYSTEM OFF: Room unoccupied</td>\n",
       "    </tr>\n",
       "    <tr>\n",
       "      <th>1</th>\n",
       "      <td>2024-01-01 00:05:00</td>\n",
       "      <td>0</td>\n",
       "      <td>0</td>\n",
       "      <td>1</td>\n",
       "      <td>24.661599</td>\n",
       "      <td>60.000000</td>\n",
       "      <td>rainy</td>\n",
       "      <td>0.0</td>\n",
       "      <td>0</td>\n",
       "      <td>26.037660</td>\n",
       "      <td>0.0</td>\n",
       "      <td>off</td>\n",
       "      <td>NaN</td>\n",
       "      <td>SYSTEM OFF: Room unoccupied</td>\n",
       "    </tr>\n",
       "    <tr>\n",
       "      <th>2</th>\n",
       "      <td>2024-01-01 00:10:00</td>\n",
       "      <td>0</td>\n",
       "      <td>0</td>\n",
       "      <td>1</td>\n",
       "      <td>24.612982</td>\n",
       "      <td>60.000000</td>\n",
       "      <td>cloudy</td>\n",
       "      <td>0.0</td>\n",
       "      <td>0</td>\n",
       "      <td>25.949107</td>\n",
       "      <td>0.0</td>\n",
       "      <td>off</td>\n",
       "      <td>NaN</td>\n",
       "      <td>SYSTEM OFF: Room unoccupied</td>\n",
       "    </tr>\n",
       "    <tr>\n",
       "      <th>3</th>\n",
       "      <td>2024-01-01 00:15:00</td>\n",
       "      <td>0</td>\n",
       "      <td>0</td>\n",
       "      <td>1</td>\n",
       "      <td>24.970486</td>\n",
       "      <td>65.615747</td>\n",
       "      <td>cloudy</td>\n",
       "      <td>0.0</td>\n",
       "      <td>0</td>\n",
       "      <td>25.933911</td>\n",
       "      <td>0.0</td>\n",
       "      <td>off</td>\n",
       "      <td>NaN</td>\n",
       "      <td>SYSTEM OFF: Room unoccupied</td>\n",
       "    </tr>\n",
       "    <tr>\n",
       "      <th>4</th>\n",
       "      <td>2024-01-01 00:20:00</td>\n",
       "      <td>0</td>\n",
       "      <td>0</td>\n",
       "      <td>1</td>\n",
       "      <td>24.346744</td>\n",
       "      <td>62.063288</td>\n",
       "      <td>cloudy</td>\n",
       "      <td>0.0</td>\n",
       "      <td>0</td>\n",
       "      <td>25.852349</td>\n",
       "      <td>0.0</td>\n",
       "      <td>off</td>\n",
       "      <td>NaN</td>\n",
       "      <td>SYSTEM OFF: Room unoccupied</td>\n",
       "    </tr>\n",
       "  </tbody>\n",
       "</table>\n",
       "</div>"
      ],
      "text/plain": [
       "            timestamp  hour_of_day  day_of_week  day_of_year  outside_temp  \\\n",
       "0 2024-01-01 00:00:00            0            0            1     24.593342   \n",
       "1 2024-01-01 00:05:00            0            0            1     24.661599   \n",
       "2 2024-01-01 00:10:00            0            0            1     24.612982   \n",
       "3 2024-01-01 00:15:00            0            0            1     24.970486   \n",
       "4 2024-01-01 00:20:00            0            0            1     24.346744   \n",
       "\n",
       "   outside_humidity weather_condition  occupancy_count  is_occupied  \\\n",
       "0         60.000000            cloudy              0.0            0   \n",
       "1         60.000000             rainy              0.0            0   \n",
       "2         60.000000            cloudy              0.0            0   \n",
       "3         65.615747            cloudy              0.0            0   \n",
       "4         62.063288            cloudy              0.0            0   \n",
       "\n",
       "   room_temp  power_kw fan_speed  ac_temp_setting            ac_control_reason  \n",
       "0  26.006587       0.0       off              NaN  SYSTEM OFF: Room unoccupied  \n",
       "1  26.037660       0.0       off              NaN  SYSTEM OFF: Room unoccupied  \n",
       "2  25.949107       0.0       off              NaN  SYSTEM OFF: Room unoccupied  \n",
       "3  25.933911       0.0       off              NaN  SYSTEM OFF: Room unoccupied  \n",
       "4  25.852349       0.0       off              NaN  SYSTEM OFF: Room unoccupied  "
      ]
     },
     "execution_count": 497,
     "metadata": {},
     "output_type": "execute_result"
    }
   ],
   "source": [
    "df.head()"
   ]
  },
  {
   "cell_type": "markdown",
   "id": "3686a07b",
   "metadata": {},
   "source": [
    "Data info"
   ]
  },
  {
   "cell_type": "code",
   "execution_count": 498,
   "id": "e4630491",
   "metadata": {},
   "outputs": [
    {
     "name": "stdout",
     "output_type": "stream",
     "text": [
      "<class 'pandas.core.frame.DataFrame'>\n",
      "RangeIndex: 105121 entries, 0 to 105120\n",
      "Data columns (total 14 columns):\n",
      " #   Column             Non-Null Count   Dtype         \n",
      "---  ------             --------------   -----         \n",
      " 0   timestamp          105121 non-null  datetime64[ns]\n",
      " 1   hour_of_day        105121 non-null  int64         \n",
      " 2   day_of_week        105121 non-null  int64         \n",
      " 3   day_of_year        105121 non-null  int64         \n",
      " 4   outside_temp       105121 non-null  float64       \n",
      " 5   outside_humidity   105121 non-null  float64       \n",
      " 6   weather_condition  105121 non-null  object        \n",
      " 7   occupancy_count    105121 non-null  float64       \n",
      " 8   is_occupied        105121 non-null  int64         \n",
      " 9   room_temp          105121 non-null  float64       \n",
      " 10  power_kw           105121 non-null  float64       \n",
      " 11  fan_speed          105121 non-null  object        \n",
      " 12  ac_temp_setting    46119 non-null   float64       \n",
      " 13  ac_control_reason  105121 non-null  object        \n",
      "dtypes: datetime64[ns](1), float64(6), int64(4), object(3)\n",
      "memory usage: 11.2+ MB\n"
     ]
    }
   ],
   "source": [
    "df.info()"
   ]
  },
  {
   "cell_type": "markdown",
   "id": "4e11805a",
   "metadata": {},
   "source": [
    "Data description"
   ]
  },
  {
   "cell_type": "code",
   "execution_count": 499,
   "id": "a43f93ce",
   "metadata": {},
   "outputs": [
    {
     "data": {
      "text/html": [
       "<div>\n",
       "<style scoped>\n",
       "    .dataframe tbody tr th:only-of-type {\n",
       "        vertical-align: middle;\n",
       "    }\n",
       "\n",
       "    .dataframe tbody tr th {\n",
       "        vertical-align: top;\n",
       "    }\n",
       "\n",
       "    .dataframe thead th {\n",
       "        text-align: right;\n",
       "    }\n",
       "</style>\n",
       "<table border=\"1\" class=\"dataframe\">\n",
       "  <thead>\n",
       "    <tr style=\"text-align: right;\">\n",
       "      <th></th>\n",
       "      <th>count</th>\n",
       "      <th>unique</th>\n",
       "      <th>top</th>\n",
       "      <th>freq</th>\n",
       "      <th>mean</th>\n",
       "      <th>min</th>\n",
       "      <th>25%</th>\n",
       "      <th>50%</th>\n",
       "      <th>75%</th>\n",
       "      <th>max</th>\n",
       "      <th>std</th>\n",
       "    </tr>\n",
       "  </thead>\n",
       "  <tbody>\n",
       "    <tr>\n",
       "      <th>timestamp</th>\n",
       "      <td>105121</td>\n",
       "      <td>NaN</td>\n",
       "      <td>NaN</td>\n",
       "      <td>NaN</td>\n",
       "      <td>2024-07-01 11:59:59.999999744</td>\n",
       "      <td>2024-01-01 00:00:00</td>\n",
       "      <td>2024-04-01 06:00:00</td>\n",
       "      <td>2024-07-01 12:00:00</td>\n",
       "      <td>2024-09-30 18:00:00</td>\n",
       "      <td>2024-12-31 00:00:00</td>\n",
       "      <td>NaN</td>\n",
       "    </tr>\n",
       "    <tr>\n",
       "      <th>hour_of_day</th>\n",
       "      <td>105121.0</td>\n",
       "      <td>NaN</td>\n",
       "      <td>NaN</td>\n",
       "      <td>NaN</td>\n",
       "      <td>11.499891</td>\n",
       "      <td>0.0</td>\n",
       "      <td>5.0</td>\n",
       "      <td>11.0</td>\n",
       "      <td>17.0</td>\n",
       "      <td>23.0</td>\n",
       "      <td>6.922277</td>\n",
       "    </tr>\n",
       "    <tr>\n",
       "      <th>day_of_week</th>\n",
       "      <td>105121.0</td>\n",
       "      <td>NaN</td>\n",
       "      <td>NaN</td>\n",
       "      <td>NaN</td>\n",
       "      <td>2.991762</td>\n",
       "      <td>0.0</td>\n",
       "      <td>1.0</td>\n",
       "      <td>3.0</td>\n",
       "      <td>5.0</td>\n",
       "      <td>6.0</td>\n",
       "      <td>2.003414</td>\n",
       "    </tr>\n",
       "    <tr>\n",
       "      <th>day_of_year</th>\n",
       "      <td>105121.0</td>\n",
       "      <td>NaN</td>\n",
       "      <td>NaN</td>\n",
       "      <td>NaN</td>\n",
       "      <td>183.001741</td>\n",
       "      <td>1.0</td>\n",
       "      <td>92.0</td>\n",
       "      <td>183.0</td>\n",
       "      <td>274.0</td>\n",
       "      <td>366.0</td>\n",
       "      <td>105.36754</td>\n",
       "    </tr>\n",
       "    <tr>\n",
       "      <th>outside_temp</th>\n",
       "      <td>105121.0</td>\n",
       "      <td>NaN</td>\n",
       "      <td>NaN</td>\n",
       "      <td>NaN</td>\n",
       "      <td>27.999405</td>\n",
       "      <td>21.941441</td>\n",
       "      <td>25.432435</td>\n",
       "      <td>28.001006</td>\n",
       "      <td>30.565238</td>\n",
       "      <td>34.087714</td>\n",
       "      <td>3.026859</td>\n",
       "    </tr>\n",
       "    <tr>\n",
       "      <th>outside_humidity</th>\n",
       "      <td>105121.0</td>\n",
       "      <td>NaN</td>\n",
       "      <td>NaN</td>\n",
       "      <td>NaN</td>\n",
       "      <td>75.823283</td>\n",
       "      <td>60.0</td>\n",
       "      <td>61.944477</td>\n",
       "      <td>75.003321</td>\n",
       "      <td>88.059324</td>\n",
       "      <td>95.0</td>\n",
       "      <td>12.949781</td>\n",
       "    </tr>\n",
       "    <tr>\n",
       "      <th>weather_condition</th>\n",
       "      <td>105121</td>\n",
       "      <td>3</td>\n",
       "      <td>cloudy</td>\n",
       "      <td>52623</td>\n",
       "      <td>NaN</td>\n",
       "      <td>NaN</td>\n",
       "      <td>NaN</td>\n",
       "      <td>NaN</td>\n",
       "      <td>NaN</td>\n",
       "      <td>NaN</td>\n",
       "      <td>NaN</td>\n",
       "    </tr>\n",
       "    <tr>\n",
       "      <th>occupancy_count</th>\n",
       "      <td>105121.0</td>\n",
       "      <td>NaN</td>\n",
       "      <td>NaN</td>\n",
       "      <td>NaN</td>\n",
       "      <td>3.611885</td>\n",
       "      <td>0.0</td>\n",
       "      <td>0.0</td>\n",
       "      <td>0.0</td>\n",
       "      <td>5.0</td>\n",
       "      <td>20.0</td>\n",
       "      <td>5.879752</td>\n",
       "    </tr>\n",
       "    <tr>\n",
       "      <th>is_occupied</th>\n",
       "      <td>105121.0</td>\n",
       "      <td>NaN</td>\n",
       "      <td>NaN</td>\n",
       "      <td>NaN</td>\n",
       "      <td>0.449891</td>\n",
       "      <td>0.0</td>\n",
       "      <td>0.0</td>\n",
       "      <td>0.0</td>\n",
       "      <td>1.0</td>\n",
       "      <td>1.0</td>\n",
       "      <td>0.497485</td>\n",
       "    </tr>\n",
       "    <tr>\n",
       "      <th>room_temp</th>\n",
       "      <td>105121.0</td>\n",
       "      <td>NaN</td>\n",
       "      <td>NaN</td>\n",
       "      <td>NaN</td>\n",
       "      <td>24.266641</td>\n",
       "      <td>22.29994</td>\n",
       "      <td>23.49014</td>\n",
       "      <td>24.00035</td>\n",
       "      <td>24.809658</td>\n",
       "      <td>29.8584</td>\n",
       "      <td>1.016505</td>\n",
       "    </tr>\n",
       "    <tr>\n",
       "      <th>power_kw</th>\n",
       "      <td>105121.0</td>\n",
       "      <td>NaN</td>\n",
       "      <td>NaN</td>\n",
       "      <td>NaN</td>\n",
       "      <td>0.696064</td>\n",
       "      <td>0.0</td>\n",
       "      <td>0.0</td>\n",
       "      <td>0.0</td>\n",
       "      <td>1.6</td>\n",
       "      <td>1.7</td>\n",
       "      <td>0.786545</td>\n",
       "    </tr>\n",
       "    <tr>\n",
       "      <th>fan_speed</th>\n",
       "      <td>105121</td>\n",
       "      <td>4</td>\n",
       "      <td>off</td>\n",
       "      <td>57828</td>\n",
       "      <td>NaN</td>\n",
       "      <td>NaN</td>\n",
       "      <td>NaN</td>\n",
       "      <td>NaN</td>\n",
       "      <td>NaN</td>\n",
       "      <td>NaN</td>\n",
       "      <td>NaN</td>\n",
       "    </tr>\n",
       "    <tr>\n",
       "      <th>ac_temp_setting</th>\n",
       "      <td>46119.0</td>\n",
       "      <td>NaN</td>\n",
       "      <td>NaN</td>\n",
       "      <td>NaN</td>\n",
       "      <td>22.294109</td>\n",
       "      <td>20.0</td>\n",
       "      <td>22.0</td>\n",
       "      <td>22.0</td>\n",
       "      <td>23.0</td>\n",
       "      <td>23.0</td>\n",
       "      <td>0.704029</td>\n",
       "    </tr>\n",
       "    <tr>\n",
       "      <th>ac_control_reason</th>\n",
       "      <td>105121</td>\n",
       "      <td>5</td>\n",
       "      <td>SYSTEM OFF: Room unoccupied</td>\n",
       "      <td>57828</td>\n",
       "      <td>NaN</td>\n",
       "      <td>NaN</td>\n",
       "      <td>NaN</td>\n",
       "      <td>NaN</td>\n",
       "      <td>NaN</td>\n",
       "      <td>NaN</td>\n",
       "      <td>NaN</td>\n",
       "    </tr>\n",
       "  </tbody>\n",
       "</table>\n",
       "</div>"
      ],
      "text/plain": [
       "                      count unique                          top   freq  \\\n",
       "timestamp            105121    NaN                          NaN    NaN   \n",
       "hour_of_day        105121.0    NaN                          NaN    NaN   \n",
       "day_of_week        105121.0    NaN                          NaN    NaN   \n",
       "day_of_year        105121.0    NaN                          NaN    NaN   \n",
       "outside_temp       105121.0    NaN                          NaN    NaN   \n",
       "outside_humidity   105121.0    NaN                          NaN    NaN   \n",
       "weather_condition    105121      3                       cloudy  52623   \n",
       "occupancy_count    105121.0    NaN                          NaN    NaN   \n",
       "is_occupied        105121.0    NaN                          NaN    NaN   \n",
       "room_temp          105121.0    NaN                          NaN    NaN   \n",
       "power_kw           105121.0    NaN                          NaN    NaN   \n",
       "fan_speed            105121      4                          off  57828   \n",
       "ac_temp_setting     46119.0    NaN                          NaN    NaN   \n",
       "ac_control_reason    105121      5  SYSTEM OFF: Room unoccupied  57828   \n",
       "\n",
       "                                            mean                  min  \\\n",
       "timestamp          2024-07-01 11:59:59.999999744  2024-01-01 00:00:00   \n",
       "hour_of_day                            11.499891                  0.0   \n",
       "day_of_week                             2.991762                  0.0   \n",
       "day_of_year                           183.001741                  1.0   \n",
       "outside_temp                           27.999405            21.941441   \n",
       "outside_humidity                       75.823283                 60.0   \n",
       "weather_condition                            NaN                  NaN   \n",
       "occupancy_count                         3.611885                  0.0   \n",
       "is_occupied                             0.449891                  0.0   \n",
       "room_temp                              24.266641             22.29994   \n",
       "power_kw                                0.696064                  0.0   \n",
       "fan_speed                                    NaN                  NaN   \n",
       "ac_temp_setting                        22.294109                 20.0   \n",
       "ac_control_reason                            NaN                  NaN   \n",
       "\n",
       "                                   25%                  50%  \\\n",
       "timestamp          2024-04-01 06:00:00  2024-07-01 12:00:00   \n",
       "hour_of_day                        5.0                 11.0   \n",
       "day_of_week                        1.0                  3.0   \n",
       "day_of_year                       92.0                183.0   \n",
       "outside_temp                 25.432435            28.001006   \n",
       "outside_humidity             61.944477            75.003321   \n",
       "weather_condition                  NaN                  NaN   \n",
       "occupancy_count                    0.0                  0.0   \n",
       "is_occupied                        0.0                  0.0   \n",
       "room_temp                     23.49014             24.00035   \n",
       "power_kw                           0.0                  0.0   \n",
       "fan_speed                          NaN                  NaN   \n",
       "ac_temp_setting                   22.0                 22.0   \n",
       "ac_control_reason                  NaN                  NaN   \n",
       "\n",
       "                                   75%                  max        std  \n",
       "timestamp          2024-09-30 18:00:00  2024-12-31 00:00:00        NaN  \n",
       "hour_of_day                       17.0                 23.0   6.922277  \n",
       "day_of_week                        5.0                  6.0   2.003414  \n",
       "day_of_year                      274.0                366.0  105.36754  \n",
       "outside_temp                 30.565238            34.087714   3.026859  \n",
       "outside_humidity             88.059324                 95.0  12.949781  \n",
       "weather_condition                  NaN                  NaN        NaN  \n",
       "occupancy_count                    5.0                 20.0   5.879752  \n",
       "is_occupied                        1.0                  1.0   0.497485  \n",
       "room_temp                    24.809658              29.8584   1.016505  \n",
       "power_kw                           1.6                  1.7   0.786545  \n",
       "fan_speed                          NaN                  NaN        NaN  \n",
       "ac_temp_setting                   23.0                 23.0   0.704029  \n",
       "ac_control_reason                  NaN                  NaN        NaN  "
      ]
     },
     "execution_count": 499,
     "metadata": {},
     "output_type": "execute_result"
    }
   ],
   "source": [
    "df.describe(include='all').T"
   ]
  },
  {
   "cell_type": "markdown",
   "id": "7121e95a",
   "metadata": {},
   "source": [
    "Check total missing values"
   ]
  },
  {
   "cell_type": "code",
   "execution_count": 500,
   "id": "f1783b78",
   "metadata": {},
   "outputs": [
    {
     "data": {
      "text/plain": [
       "timestamp                0\n",
       "hour_of_day              0\n",
       "day_of_week              0\n",
       "day_of_year              0\n",
       "outside_temp             0\n",
       "outside_humidity         0\n",
       "weather_condition        0\n",
       "occupancy_count          0\n",
       "is_occupied              0\n",
       "room_temp                0\n",
       "power_kw                 0\n",
       "fan_speed                0\n",
       "ac_temp_setting      59002\n",
       "ac_control_reason        0\n",
       "dtype: int64"
      ]
     },
     "execution_count": 500,
     "metadata": {},
     "output_type": "execute_result"
    }
   ],
   "source": [
    "df.isnull().sum()"
   ]
  },
  {
   "cell_type": "markdown",
   "id": "4951967d",
   "metadata": {},
   "source": [
    "### **Data Preprocessing**\n",
    "Clean and prepare key columns: convert numeric columns to numbers, fill missing values, and ensure text columns are strings"
   ]
  },
  {
   "cell_type": "code",
   "execution_count": 501,
   "id": "b1418efe",
   "metadata": {},
   "outputs": [],
   "source": [
    "df['power_kw'] = pd.to_numeric(df['power_kw'], errors='coerce').fillna(0.0)\n",
    "df['fan_speed'] = df['fan_speed'].fillna('off').astype(str)\n",
    "df['ac_control_reason'] = df['ac_control_reason'].fillna('').astype(str)\n",
    "df['room_temp'] = pd.to_numeric(df['room_temp'], errors='coerce')"
   ]
  },
  {
   "cell_type": "markdown",
   "id": "28c2fccb",
   "metadata": {},
   "source": [
    "Calculate the time difference between consecutive measurements in minutes, find the typical interval (median cadence) to understand how often data is recorded and determine how many rows roughly correspond to a 5-minute period for later use"
   ]
  },
  {
   "cell_type": "code",
   "execution_count": 502,
   "id": "8520a94f",
   "metadata": {},
   "outputs": [
    {
     "name": "stdout",
     "output_type": "stream",
     "text": [
      "median cadence (min): 5.0\n"
     ]
    }
   ],
   "source": [
    "df['dt_min'] = df['timestamp'].diff().dt.total_seconds().div(60.0)\n",
    "median_dt = df['dt_min'].median() if not df['dt_min'].isna().all() else 5.0\n",
    "print('median cadence (min):', median_dt)\n",
    "lag_5min = max(1, int(round(5.0 / median_dt))) "
   ]
  },
  {
   "cell_type": "markdown",
   "id": "20d4e6d8",
   "metadata": {},
   "source": [
    "Create a flag 'ac_on' that infers AC is running if power > 0.05, fan not off, reason includes 'cool', or set temp < room temp"
   ]
  },
  {
   "cell_type": "code",
   "execution_count": 503,
   "id": "11600335",
   "metadata": {},
   "outputs": [],
   "source": [
    "df['ac_on'] = (df['power_kw'] > 0.05) | (df['fan_speed'].str.lower() != 'off') \\\n",
    "              | df['ac_control_reason'].str.contains('cool', case=False, na=False) \\\n",
    "              | ((pd.to_numeric(df['ac_temp_setting'], errors='coerce').notnull()) &\n",
    "                 (pd.to_numeric(df['ac_temp_setting'], errors='coerce') < df['room_temp']))"
   ]
  },
  {
   "cell_type": "markdown",
   "id": "ac226568",
   "metadata": {},
   "source": [
    "Get room temperature values as an array"
   ]
  },
  {
   "cell_type": "code",
   "execution_count": 504,
   "id": "f720b462",
   "metadata": {},
   "outputs": [],
   "source": [
    "temps = df['room_temp'].values\n",
    "n = len(df)"
   ]
  },
  {
   "cell_type": "markdown",
   "id": "5211498a",
   "metadata": {},
   "source": [
    "Start with empty results (NaN for time, False for censored)"
   ]
  },
  {
   "cell_type": "code",
   "execution_count": 505,
   "id": "cc1fd8cf",
   "metadata": {},
   "outputs": [],
   "source": [
    "time_to_cool = np.full(n, np.nan)\n",
    "censored = np.zeros(n, dtype=bool)"
   ]
  },
  {
   "cell_type": "markdown",
   "id": "de97f9b7",
   "metadata": {},
   "source": [
    "Find all rows where room already <= target temperature"
   ]
  },
  {
   "cell_type": "code",
   "execution_count": 506,
   "id": "a838cf97",
   "metadata": {},
   "outputs": [],
   "source": [
    "target_idxs = np.where(temps <= TARGET_TEMP)[0]"
   ]
  },
  {
   "cell_type": "markdown",
   "id": "7e514d63",
   "metadata": {},
   "source": [
    "Label how long it takes for the room temperature to reach the target range, marking cases as censored if the target isn't reached or data is missing"
   ]
  },
  {
   "cell_type": "code",
   "execution_count": 507,
   "id": "43c32585",
   "metadata": {},
   "outputs": [
    {
     "name": "stdout",
     "output_type": "stream",
     "text": [
      "Labeled rows: 55182 Censored rows: 49939\n"
     ]
    }
   ],
   "source": [
    "temps = df['room_temp'].values\n",
    "n = len(df)\n",
    "time_to_cool = np.full(n, np.nan)\n",
    "censored = np.zeros(n, dtype=bool)\n",
    "\n",
    "# Track whether a cooling episode is currently active\n",
    "episode_active = True \n",
    "\n",
    "for i in range(n):\n",
    "\n",
    "     # Skip if temperature is missing\n",
    "    if np.isnan(temps[i]):\n",
    "        time_to_cool[i] = np.nan\n",
    "        censored[i] = True\n",
    "        continue\n",
    "\n",
    "    # If temperature is already within target band, set time to 0\n",
    "    if temps[i] <= TARGET_TEMP + TARGET_BAND:\n",
    "        time_to_cool[i] = 0.0\n",
    "        episode_active = False\n",
    "        continue\n",
    "\n",
    "    # Restart a new episode if temperature drifts above target + hysteresis\n",
    "    if not episode_active and temps[i] > TARGET_TEMP + TARGET_BAND + RESTART_HYST:\n",
    "        episode_active = True\n",
    "\n",
    "    # Skip if no episode is active\n",
    "    if not episode_active:\n",
    "        time_to_cool[i] = np.nan\n",
    "        censored[i] = True\n",
    "        continue\n",
    "\n",
    "    # Look ahead for the first time temperature enters target band\n",
    "    j = i + 1\n",
    "    while j < n and temps[j] > TARGET_TEMP + TARGET_BAND:\n",
    "        j += 1\n",
    "\n",
    "    # Target not reached within dataset\n",
    "    if j >= n:\n",
    "        time_to_cool[i] = float(MAX_HORIZON_MIN)\n",
    "        censored[i] = True\n",
    "        continue\n",
    "\n",
    "    delta_min = (df.loc[j, 'timestamp'] - df.loc[i, 'timestamp']).total_seconds() / 60.0\n",
    "    \n",
    "    # Cap at maximum horizon\n",
    "    if delta_min > MAX_HORIZON_MIN:\n",
    "        time_to_cool[i] = float(MAX_HORIZON_MIN)\n",
    "        censored[i] = True\n",
    "\n",
    "    # If AC was on, record actual time\n",
    "    elif df.loc[i:j, 'ac_on'].any():\n",
    "        time_to_cool[i] = float(delta_min)\n",
    "\n",
    "    # Otherwise, treat as censored\n",
    "    else:\n",
    "        time_to_cool[i] = float(MAX_HORIZON_MIN)\n",
    "        censored[i] = True\n",
    "\n",
    "# Save results to dataframe\n",
    "df['time_to_cool_min'] = time_to_cool\n",
    "df['censored'] = censored\n",
    "print('Labeled rows:', (~df['censored']).sum(), 'Censored rows:', df['censored'].sum())\n"
   ]
  },
  {
   "cell_type": "markdown",
   "id": "f5fa97ba",
   "metadata": {},
   "source": [
    "### **Feature Engineering**\n",
    "#### Temperature Differences & Cooling Rates\n",
    "Generate temperature features that capture how far the room is from the target, what it was 5 minutes ago, the time elapsed and how quickly it has been cooling"
   ]
  },
  {
   "cell_type": "code",
   "execution_count": 508,
   "id": "dda224ef",
   "metadata": {},
   "outputs": [],
   "source": [
    "df['temp_diff'] = df['room_temp'] - TARGET_TEMP\n",
    "df['temp_lag_5'] = df['room_temp'].shift(lag_5min)\n",
    "df['time_lag_5_min'] = (df['timestamp'] - df['timestamp'].shift(lag_5min)).dt.total_seconds().div(60.0)\n",
    "df['cooling_rate_5min'] = (df['temp_lag_5'] - df['room_temp']) / df['time_lag_5_min']\n",
    "df['cooling_rate_5min'] = df['cooling_rate_5min'].fillna(0.0)"
   ]
  },
  {
   "cell_type": "markdown",
   "id": "6aa8c495",
   "metadata": {},
   "source": [
    "#### Rolling Statistics (15-Minute Window)\n",
    "Compute rolling 15-minute averages to capture recent trends in room temperature, power usage and AC activity"
   ]
  },
  {
   "cell_type": "code",
   "execution_count": 509,
   "id": "2dace67b",
   "metadata": {},
   "outputs": [],
   "source": [
    "win = max(1, int(round(15.0 / median_dt)))\n",
    "df['room_temp_roll_mean_15'] = df['room_temp'].rolling(window=win, min_periods=1).mean()\n",
    "df['power_kw_roll_15'] = df['power_kw'].rolling(window=win, min_periods=1).mean()\n",
    "df['ac_on_frac_15'] = df['ac_on'].rolling(window=win, min_periods=1).mean()"
   ]
  },
  {
   "cell_type": "markdown",
   "id": "f5800ee9",
   "metadata": {},
   "source": [
    "#### Fan Speed Encoding\n",
    "Convert fan speed from text labels to numeric values for easier analysis and modeling"
   ]
  },
  {
   "cell_type": "code",
   "execution_count": 510,
   "id": "de1a0292",
   "metadata": {},
   "outputs": [],
   "source": [
    "fan_map = {'off': 0, 'low': 1, 'medium': 2, 'med': 2, 'high': 3}\n",
    "df['fan_speed_num'] = df['fan_speed'].str.lower().map(fan_map)\n",
    "df['fan_speed_num'] = pd.to_numeric(df['fan_speed_num'], errors='coerce').fillna(0)"
   ]
  },
  {
   "cell_type": "markdown",
   "id": "978e3750",
   "metadata": {},
   "source": [
    "#### Cyclical Time Feature\n",
    "Encode the hour of the day as cyclical features using sine and cosine to capture daily patterns"
   ]
  },
  {
   "cell_type": "code",
   "execution_count": 511,
   "id": "3683e674",
   "metadata": {},
   "outputs": [],
   "source": [
    "df['hour_sin'] = np.sin(2 * np.pi * df['hour_of_day'] / 24.0)\n",
    "df['hour_cos'] = np.cos(2 * np.pi * df['hour_of_day'] / 24.0)"
   ]
  },
  {
   "cell_type": "markdown",
   "id": "241ffc6e",
   "metadata": {},
   "source": [
    "#### One-Hot Encoded Weather Conditions\n",
    "Convert the categorical weather condition into one-hot encoded columns and remove the original column"
   ]
  },
  {
   "cell_type": "code",
   "execution_count": 512,
   "id": "c41cd391",
   "metadata": {},
   "outputs": [],
   "source": [
    "weather_dummies = pd.get_dummies(df['weather_condition'].fillna('unknown').astype(str), prefix='weather')\n",
    "df = pd.concat([df, weather_dummies], axis=1)\n",
    "df = df.drop(columns=['weather_condition'])"
   ]
  },
  {
   "cell_type": "markdown",
   "id": "a4d1a790",
   "metadata": {},
   "source": [
    "Define the list of features to use for modeling, including temperature, cooling, occupancy, power, fan, time, AC activity, and weather indicators"
   ]
  },
  {
   "cell_type": "code",
   "execution_count": 513,
   "id": "38ed8070",
   "metadata": {},
   "outputs": [],
   "source": [
    "FEATURES = [\n",
    "    'room_temp', 'temp_diff', 'cooling_rate_5min', 'room_temp_roll_mean_15',\n",
    "    'outside_temp', 'outside_humidity', 'occupancy_count', 'is_occupied',\n",
    "    'power_kw', 'power_kw_roll_15', 'fan_speed_num', 'ac_temp_setting',\n",
    "    'hour_sin', 'hour_cos', 'ac_on_frac_15'\n",
    "] + [c for c in df.columns if c.startswith('weather_')]"
   ]
  },
  {
   "cell_type": "markdown",
   "id": "354d7912",
   "metadata": {},
   "source": [
    "Create a new DataFrame with only the selected features and target columns and remove rows where the target 'time_to_cool_min' is missing"
   ]
  },
  {
   "cell_type": "code",
   "execution_count": 514,
   "id": "62f23772",
   "metadata": {},
   "outputs": [],
   "source": [
    "df_features = df[FEATURES + ['time_to_cool_min', 'censored']].copy()\n",
    "df_features = df_features.dropna(subset=['time_to_cool_min'])"
   ]
  },
  {
   "cell_type": "markdown",
   "id": "e4e591a5",
   "metadata": {},
   "source": [
    "Select only the rows where the cooling time is known (non-censored) to use for training the model"
   ]
  },
  {
   "cell_type": "code",
   "execution_count": 515,
   "id": "b5ad276f",
   "metadata": {},
   "outputs": [
    {
     "name": "stdout",
     "output_type": "stream",
     "text": [
      "Trainable rows (non-censored): 55182\n"
     ]
    }
   ],
   "source": [
    "trainable = df_features[~df_features['censored']].copy()\n",
    "print('Trainable rows (non-censored):', len(trainable))"
   ]
  },
  {
   "cell_type": "markdown",
   "id": "81d3f2cd",
   "metadata": {},
   "source": [
    "### **Train/Validation/Test Split**\n",
    "Reset the index of the trainable DataFrame for a clean, sequential order"
   ]
  },
  {
   "cell_type": "code",
   "execution_count": 516,
   "id": "5d187a17",
   "metadata": {},
   "outputs": [],
   "source": [
    "trainable = trainable.reset_index(drop=True)"
   ]
  },
  {
   "cell_type": "markdown",
   "id": "a55d7af5",
   "metadata": {},
   "source": [
    "Get the total number of trainable (non-censored) samples."
   ]
  },
  {
   "cell_type": "code",
   "execution_count": 517,
   "id": "6693c353",
   "metadata": {},
   "outputs": [],
   "source": [
    "ntr = len(trainable)"
   ]
  },
  {
   "cell_type": "markdown",
   "id": "9042c73a",
   "metadata": {},
   "source": [
    "Determine cutoff indices for 70% train, 15% validation, and 15% test."
   ]
  },
  {
   "cell_type": "code",
   "execution_count": 518,
   "id": "50e9e6c9",
   "metadata": {},
   "outputs": [
    {
     "name": "stdout",
     "output_type": "stream",
     "text": [
      "Train end index: 38627 Validation end index: 46904\n"
     ]
    }
   ],
   "source": [
    "train_end = int(ntr * 0.70)\n",
    "val_end = int(ntr * 0.85)\n",
    "print(\"Train end index:\", train_end, \"Validation end index:\", val_end)"
   ]
  },
  {
   "cell_type": "markdown",
   "id": "82ded131",
   "metadata": {},
   "source": [
    "Split the trainable data into training, validation, and test sets for model training and evaluation"
   ]
  },
  {
   "cell_type": "code",
   "execution_count": 519,
   "id": "19d9b1d6",
   "metadata": {},
   "outputs": [],
   "source": [
    "X_train = trainable.loc[:train_end-1, FEATURES]\n",
    "y_train = trainable.loc[:train_end-1, 'time_to_cool_min']\n",
    "\n",
    "X_val = trainable.loc[train_end:val_end-1, FEATURES]\n",
    "y_val = trainable.loc[train_end:val_end-1, 'time_to_cool_min']\n",
    "\n",
    "X_test = trainable.loc[val_end:, FEATURES]\n",
    "y_test = trainable.loc[val_end:, 'time_to_cool_min']"
   ]
  },
  {
   "cell_type": "markdown",
   "id": "bd7a160b",
   "metadata": {},
   "source": [
    "Confirm the sample sizes for each split."
   ]
  },
  {
   "cell_type": "code",
   "execution_count": 520,
   "id": "a7b72ac0",
   "metadata": {},
   "outputs": [
    {
     "name": "stdout",
     "output_type": "stream",
     "text": [
      "Train/Val/Test sizes: 38627 8277 8278\n"
     ]
    }
   ],
   "source": [
    "print(\"Train/Val/Test sizes:\", len(X_train), len(X_val), len(X_test))"
   ]
  },
  {
   "cell_type": "markdown",
   "id": "b78475f0",
   "metadata": {},
   "source": [
    "Convert target columns to NumPy arrays of type float for compatibility with machine learning models"
   ]
  },
  {
   "cell_type": "code",
   "execution_count": 521,
   "id": "6e86631d",
   "metadata": {},
   "outputs": [],
   "source": [
    "y_train = y_train.to_numpy(dtype=float)\n",
    "y_val   = y_val.to_numpy(dtype=float)\n",
    "y_test  = y_test.to_numpy(dtype=float)"
   ]
  },
  {
   "cell_type": "markdown",
   "id": "a4e809a1",
   "metadata": {},
   "source": [
    "### **Model Training & Evaluation**\n",
    "Train a LightGBM regression model to predict time-to-cool, using early stopping on the validation set and then save the trained model to a file for later use"
   ]
  },
  {
   "cell_type": "code",
   "execution_count": 522,
   "id": "7dc83be0",
   "metadata": {},
   "outputs": [
    {
     "name": "stdout",
     "output_type": "stream",
     "text": [
      "[50]\tvalid_0's l1: 17.7235\tvalid_0's l2: 1038.59\n",
      "[100]\tvalid_0's l1: 15.1791\tvalid_0's l2: 1044.41\n",
      "Model saved at: time_to_cool_model.pkl\n"
     ]
    }
   ],
   "source": [
    "model = lgb.LGBMRegressor(n_estimators=2000, learning_rate=0.05)\n",
    "model.fit(\n",
    "    X_train, y_train,\n",
    "    eval_set=[(X_val, y_val)],\n",
    "    eval_metric='l1',\n",
    "    early_stopping_rounds=50,\n",
    "    verbose=50\n",
    ")\n",
    "\n",
    "MODEL_PATH = \"time_to_cool_model.pkl\"\n",
    "joblib.dump(model, MODEL_PATH)\n",
    "print(\"Model saved at:\", MODEL_PATH)"
   ]
  },
  {
   "cell_type": "markdown",
   "id": "8ad3f1c6",
   "metadata": {},
   "source": [
    "Use the trained model to predict on the test set and evaluate its performance with MAE and RMSE"
   ]
  },
  {
   "cell_type": "code",
   "execution_count": 523,
   "id": "1e6395a4",
   "metadata": {},
   "outputs": [
    {
     "name": "stdout",
     "output_type": "stream",
     "text": [
      "MAE (min): 21.672360970179625\n",
      "RMSE: 1486.2599139462154\n"
     ]
    }
   ],
   "source": [
    "y_pred = model.predict(X_test)\n",
    "print('MAE (min):', mean_absolute_error(y_test, y_pred))\n",
    "print('RMSE:', mean_squared_error(y_test, y_pred))"
   ]
  },
  {
   "cell_type": "markdown",
   "id": "fb9b0776",
   "metadata": {},
   "source": [
    "### **Helper Functions & Example Predictions**\n",
    "Predict the time-to-cool for a single row of data using the trained model"
   ]
  },
  {
   "cell_type": "code",
   "execution_count": 524,
   "id": "73423059",
   "metadata": {},
   "outputs": [],
   "source": [
    "def predict_time_to_cool_row(row_df, model, features=FEATURES):\n",
    "    x = row_df[features].values.reshape(1, -1)\n",
    "    return float(model.predict(x)[0])"
   ]
  },
  {
   "cell_type": "markdown",
   "id": "33ec8f75",
   "metadata": {},
   "source": [
    "Recommend a simple pre-cooling start time by predicting the time-to-cool and subtracting it from the desired event time"
   ]
  },
  {
   "cell_type": "code",
   "execution_count": 525,
   "id": "4574b975",
   "metadata": {},
   "outputs": [],
   "source": [
    "def recommend_start_simple(event_time, now_row, model):\n",
    "    t_pred = predict_time_to_cool_row(now_row, model)\n",
    "    start_time = pd.to_datetime(event_time) - pd.Timedelta(minutes=t_pred)\n",
    "    return start_time, t_pred"
   ]
  },
  {
   "cell_type": "markdown",
   "id": "86cd6946",
   "metadata": {},
   "source": [
    "Example usage: predict time-to-cool from the latest data and suggest a simple pre-cooling start time"
   ]
  },
  {
   "cell_type": "code",
   "execution_count": 526,
   "id": "3037eaf1",
   "metadata": {},
   "outputs": [
    {
     "name": "stdout",
     "output_type": "stream",
     "text": [
      "If started now predicted minutes to cool: 82.49141500633803\n",
      "Suggested start time (simple): 2024-01-01 07:37:30.515099620\n"
     ]
    }
   ],
   "source": [
    "now_row = df_features.iloc[-1:][FEATURES]\n",
    "event_time = pd.to_datetime('2024-01-01 09:00')\n",
    "start_time_guess, pred_minutes = recommend_start_simple(event_time, now_row, model)\n",
    "print('If started now predicted minutes to cool:', pred_minutes)\n",
    "print('Suggested start time (simple):', start_time_guess)"
   ]
  },
  {
   "cell_type": "markdown",
   "id": "77c166f8",
   "metadata": {},
   "source": [
    "Find the latest feasible pre-cooling start time by checking backward in steps until the predicted cooling time fits before the event"
   ]
  },
  {
   "cell_type": "code",
   "execution_count": 527,
   "id": "82d8f99c",
   "metadata": {},
   "outputs": [],
   "source": [
    "def find_latest_feasible_start(event_time, model, features_template, now_features, max_horizon=MAX_HORIZON_MIN, step_min=5):\n",
    "    event_time = pd.to_datetime(event_time)\n",
    "    for offset in range(0, max_horizon+1, step_min):\n",
    "        candidate_start = event_time - pd.Timedelta(minutes=offset)\n",
    "        candidate_features = now_features.copy()\n",
    "        pred = predict_time_to_cool_row(candidate_features, model)\n",
    "        if candidate_start + pd.Timedelta(minutes=pred) <= event_time:\n",
    "            return candidate_start, pred\n",
    "    return None, None"
   ]
  },
  {
   "cell_type": "markdown",
   "id": "85475b4e",
   "metadata": {},
   "source": [
    "Use the simulation function to find the latest feasible pre-cooling start time under current conditions"
   ]
  },
  {
   "cell_type": "code",
   "execution_count": 528,
   "id": "3d4bc216",
   "metadata": {},
   "outputs": [
    {
     "name": "stdout",
     "output_type": "stream",
     "text": [
      "latest feasible start (simulation, assume current conditions): 2024-01-01 07:35:00 pred min: 82.49141500633803\n"
     ]
    }
   ],
   "source": [
    "cand_start, cand_pred = find_latest_feasible_start(event_time, model, FEATURES, now_row)\n",
    "print('latest feasible start (simulation, assume current conditions):', cand_start, 'pred min:', cand_pred)"
   ]
  }
 ],
 "metadata": {
  "kernelspec": {
   "display_name": "Python 3",
   "language": "python",
   "name": "python3"
  },
  "language_info": {
   "codemirror_mode": {
    "name": "ipython",
    "version": 3
   },
   "file_extension": ".py",
   "mimetype": "text/x-python",
   "name": "python",
   "nbconvert_exporter": "python",
   "pygments_lexer": "ipython3",
   "version": "3.13.2"
  }
 },
 "nbformat": 4,
 "nbformat_minor": 5
}
